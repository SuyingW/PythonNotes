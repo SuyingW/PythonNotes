{
 "cells": [
  {
   "cell_type": "code",
   "execution_count": 17,
   "id": "2e6d88d5-2022-45e8-8e58-ae01c2094921",
   "metadata": {},
   "outputs": [],
   "source": [
    "import math"
   ]
  },
  {
   "cell_type": "code",
   "execution_count": 4,
   "id": "161ccdf9-c178-4902-ad41-6dad685db85d",
   "metadata": {},
   "outputs": [],
   "source": [
    "def multiplyByThree(val):\n",
    "    return 3 * val"
   ]
  },
  {
   "cell_type": "code",
   "execution_count": 5,
   "id": "b84da3e6-14b4-45e7-8aef-cc26d0638781",
   "metadata": {},
   "outputs": [
    {
     "data": {
      "text/plain": [
       "12"
      ]
     },
     "execution_count": 5,
     "metadata": {},
     "output_type": "execute_result"
    }
   ],
   "source": [
    "multiplyByThree(4)"
   ]
  },
  {
   "cell_type": "code",
   "execution_count": 6,
   "id": "cf6e97c8-b208-44f2-80e5-474f2a886dc4",
   "metadata": {},
   "outputs": [],
   "source": [
    "def multiply(a, b):\n",
    "    return a * b"
   ]
  },
  {
   "cell_type": "code",
   "execution_count": 7,
   "id": "c0a638a8-1044-43d3-a8ad-128c4cbf5b07",
   "metadata": {},
   "outputs": [
    {
     "data": {
      "text/plain": [
       "56"
      ]
     },
     "execution_count": 7,
     "metadata": {},
     "output_type": "execute_result"
    }
   ],
   "source": [
    "multiply(7,8)"
   ]
  },
  {
   "cell_type": "code",
   "execution_count": 8,
   "id": "5563dabe-b023-49ff-9bf0-42438c79119e",
   "metadata": {},
   "outputs": [],
   "source": [
    "a = [1,2,3]\n",
    "\n",
    "def appendList(list):\n",
    "    list.append(5)"
   ]
  },
  {
   "cell_type": "code",
   "execution_count": 9,
   "id": "5cdaa58e-250c-4cc8-b722-16d2267327d7",
   "metadata": {},
   "outputs": [
    {
     "name": "stdout",
     "output_type": "stream",
     "text": [
      "[1, 2, 3, 5]\n"
     ]
    }
   ],
   "source": [
    "appendList(a)\n",
    "print(a)"
   ]
  },
  {
   "cell_type": "code",
   "execution_count": 10,
   "id": "98216f1e-6915-42b2-a673-e78058c41413",
   "metadata": {},
   "outputs": [
    {
     "name": "stdout",
     "output_type": "stream",
     "text": [
      "Default message\n"
     ]
    },
    {
     "data": {
      "text/plain": [
       "5"
      ]
     },
     "execution_count": 10,
     "metadata": {},
     "output_type": "execute_result"
    }
   ],
   "source": [
    "def performOperation(num1, num2, operation, message='Default message'):\n",
    "    print(message)\n",
    "    if operation == 'sum':\n",
    "        return num1 + num2\n",
    "    if operation == 'multiply':\n",
    "        return num1 * num2\n",
    "performOperation(2,3,'sum')"
   ]
  },
  {
   "cell_type": "code",
   "execution_count": 11,
   "id": "d8e11894-d190-4efd-99e5-bfa2ba1d9d30",
   "metadata": {},
   "outputs": [
    {
     "name": "stdout",
     "output_type": "stream",
     "text": [
      "Default message\n"
     ]
    },
    {
     "data": {
      "text/plain": [
       "6"
      ]
     },
     "execution_count": 11,
     "metadata": {},
     "output_type": "execute_result"
    }
   ],
   "source": [
    "performOperation(2,3,operation='multiply')"
   ]
  },
  {
   "cell_type": "code",
   "execution_count": 13,
   "id": "a428833c-b434-4dea-bfd4-abf5639c90a9",
   "metadata": {},
   "outputs": [
    {
     "name": "stdout",
     "output_type": "stream",
     "text": [
      "(1, 2, 3)\n"
     ]
    }
   ],
   "source": [
    "# * indicates the parameter passed in is a pointer, so we can pass in more than one values\n",
    "def performOperation(*args):\n",
    "    print(args)\n",
    "performOperation(1,2,3)"
   ]
  },
  {
   "cell_type": "code",
   "execution_count": 29,
   "id": "b5354325-dab3-4e17-8d63-c56bf262984e",
   "metadata": {},
   "outputs": [
    {
     "name": "stdout",
     "output_type": "stream",
     "text": [
      "(2, 3)\n",
      "{'operation': 'multiply'}\n"
     ]
    }
   ],
   "source": [
    "# keyword arguments\n",
    "def performOperation(*args, **kwargs):\n",
    "    print(args)\n",
    "    print(kwargs)\n",
    "performOperation(2,3,operation='multiply')"
   ]
  },
  {
   "cell_type": "code",
   "execution_count": 31,
   "id": "0ab94253-afa8-404e-9711-be0ccffa0b4f",
   "metadata": {},
   "outputs": [
    {
     "data": {
      "text/plain": [
       "30"
      ]
     },
     "execution_count": 31,
     "metadata": {},
     "output_type": "execute_result"
    }
   ],
   "source": [
    "def performOperation(*args, operation):\n",
    "    if operation == 'sum':\n",
    "        return sum(args)\n",
    "    if operation == 'multiply':\n",
    "        return math.prod(args)\n",
    "performOperation(2,3,5,operation='multiply')"
   ]
  },
  {
   "cell_type": "code",
   "execution_count": null,
   "id": "296cbff2-7da8-4bc3-8496-85e686a90fab",
   "metadata": {},
   "outputs": [],
   "source": []
  },
  {
   "cell_type": "code",
   "execution_count": null,
   "id": "f42ad977-6116-480d-b46a-ca220cfa1dce",
   "metadata": {},
   "outputs": [],
   "source": []
  }
 ],
 "metadata": {
  "kernelspec": {
   "display_name": "Python 3 (ipykernel)",
   "language": "python",
   "name": "python3"
  },
  "language_info": {
   "codemirror_mode": {
    "name": "ipython",
    "version": 3
   },
   "file_extension": ".py",
   "mimetype": "text/x-python",
   "name": "python",
   "nbconvert_exporter": "python",
   "pygments_lexer": "ipython3",
   "version": "3.10.6"
  }
 },
 "nbformat": 4,
 "nbformat_minor": 5
}
