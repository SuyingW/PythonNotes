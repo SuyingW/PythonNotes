{
 "cells": [
  {
   "cell_type": "markdown",
   "id": "ebdcc24f-066d-4591-acd1-b1ad141d4cc5",
   "metadata": {
    "jp-MarkdownHeadingCollapsed": true,
    "tags": []
   },
   "source": [
    "#### Instance Attributes"
   ]
  },
  {
   "cell_type": "code",
   "execution_count": 15,
   "id": "aa1081bd-40ea-48ef-a4c4-4e099638227e",
   "metadata": {},
   "outputs": [],
   "source": [
    "import math"
   ]
  },
  {
   "cell_type": "code",
   "execution_count": 16,
   "id": "df7041b4-f9aa-45c6-945f-c5b29d426286",
   "metadata": {},
   "outputs": [],
   "source": [
    "class dog:\n",
    "    def __init__(self, name):\n",
    "        self.name = name\n",
    "        self.legs = 4\n",
    "    \n",
    "    def speak(self):\n",
    "        print(self.name + ' says: ye!')"
   ]
  },
  {
   "cell_type": "code",
   "execution_count": 17,
   "id": "712e14dc-7f89-4171-93cd-8be77aea667f",
   "metadata": {},
   "outputs": [
    {
     "data": {
      "text/plain": [
       "'Mango'"
      ]
     },
     "execution_count": 17,
     "metadata": {},
     "output_type": "execute_result"
    }
   ],
   "source": [
    "doga = dog('Mango')\n",
    "dogb = dog('Leeze')\n",
    "doga.name"
   ]
  },
  {
   "cell_type": "code",
   "execution_count": 18,
   "id": "c726dfbe-159f-43ce-9233-058329e49a6b",
   "metadata": {},
   "outputs": [
    {
     "data": {
      "text/plain": [
       "4"
      ]
     },
     "execution_count": 18,
     "metadata": {},
     "output_type": "execute_result"
    }
   ],
   "source": [
    "dogb.legs"
   ]
  },
  {
   "cell_type": "code",
   "execution_count": 19,
   "id": "b34b952a-a5b7-4ed7-8984-7eced2148249",
   "metadata": {},
   "outputs": [
    {
     "name": "stdout",
     "output_type": "stream",
     "text": [
      "Mango says: ye!\n",
      "Leeze says: ye!\n"
     ]
    }
   ],
   "source": [
    "doga.speak()\n",
    "dogb.speak()\n",
    "# the object itself is passed in as the first parameter"
   ]
  },
  {
   "cell_type": "markdown",
   "id": "dd473bcd-23a2-49a4-970c-22018ced66da",
   "metadata": {
    "tags": []
   },
   "source": [
    "#### Static Attributes"
   ]
  },
  {
   "cell_type": "code",
   "execution_count": 20,
   "id": "74df87d6-ed41-4c29-a9f7-64d90652a56d",
   "metadata": {},
   "outputs": [],
   "source": [
    "class Dog:\n",
    "    legs = 4\n",
    "    def __init_(self, name):\n",
    "        self.name = name     \n",
    "    def speak(self):\n",
    "        print(self.name + ' says: ye!')"
   ]
  },
  {
   "cell_type": "code",
   "execution_count": 21,
   "id": "50208a11-6340-49a9-b2e3-b9e0dace026f",
   "metadata": {},
   "outputs": [
    {
     "data": {
      "text/plain": [
       "4"
      ]
     },
     "execution_count": 21,
     "metadata": {},
     "output_type": "execute_result"
    }
   ],
   "source": [
    "Dog.legs"
   ]
  },
  {
   "cell_type": "code",
   "execution_count": 22,
   "id": "bc4b2c32-5321-47a3-9450-2153005ee151",
   "metadata": {},
   "outputs": [],
   "source": [
    "Dog.legs = 3"
   ]
  },
  {
   "cell_type": "code",
   "execution_count": 23,
   "id": "655c6ec6-9802-453a-801d-ed92f0dee453",
   "metadata": {},
   "outputs": [
    {
     "name": "stdout",
     "output_type": "stream",
     "text": [
      "Elsie\n",
      "4\n"
     ]
    }
   ],
   "source": [
    "class Dog:\n",
    "    _legs = 4\n",
    "    def __init__(self, name):\n",
    "        self.name = name\n",
    "    \n",
    "    def getLegs(self):\n",
    "        return self._legs\n",
    "    \n",
    "    def speak(self):\n",
    "        print(self.name + ' says: Bark!')\n",
    "\n",
    "myDog = Dog('Elsie')\n",
    "print(myDog.name)\n",
    "print(myDog.getLegs())"
   ]
  },
  {
   "cell_type": "code",
   "execution_count": 24,
   "id": "b1139138-8603-4436-9951-0a745ebeb05b",
   "metadata": {},
   "outputs": [
    {
     "name": "stdout",
     "output_type": "stream",
     "text": [
      "lizi\n",
      "3\n"
     ]
    }
   ],
   "source": [
    "myDog = Dog('lizi')\n",
    "myDog._legs = 3\n",
    "print(myDog.name)\n",
    "print(myDog._legs)"
   ]
  },
  {
   "cell_type": "markdown",
   "id": "33f03829-445c-4bea-8458-c39c38da1c96",
   "metadata": {
    "tags": []
   },
   "source": [
    "#### Static and Instance Methods"
   ]
  },
  {
   "cell_type": "code",
   "execution_count": 25,
   "id": "f9f81f13-3df5-4984-8581-50eec1db69d9",
   "metadata": {},
   "outputs": [
    {
     "data": {
      "text/plain": [
       "(5.965925826289069, 4.741180954897479)"
      ]
     },
     "execution_count": 25,
     "metadata": {},
     "output_type": "execute_result"
    }
   ],
   "source": [
    "class Orientation:\n",
    "    pi = 3.14\n",
    "    def __init__(self, x_pos, y_pos, degrees):\n",
    "        self.x_pos = x_pos\n",
    "        self.y_pos = y_pos\n",
    "        self.x_dir, self.y_dir = self.getUnitVectorFromDegrees(degrees)\n",
    "        \n",
    "    # static method\n",
    "    def getUnitVectorFromDegrees(self, degrees):\n",
    "        radians = (degrees/180) * math.pi\n",
    "        return math.sin(radians), -math.cos(radians)\n",
    "    \n",
    "    # instance method: belongs to a particular instance of the class\n",
    "    def getNextPos(self):\n",
    "        return self.x_pos + self.x_dir, self.y_pos + self.y_dir\n",
    "    \n",
    "myOrientation = Orientation(5,5,75)\n",
    "myOrientation.getNextPos()"
   ]
  },
  {
   "cell_type": "markdown",
   "id": "eca69e3f-1bf9-480e-b77a-87e81960bec7",
   "metadata": {
    "tags": []
   },
   "source": [
    "#### Decorators"
   ]
  },
  {
   "cell_type": "code",
   "execution_count": 26,
   "id": "7d7e53a4-cb80-4bff-b199-54f94f788f2e",
   "metadata": {},
   "outputs": [
    {
     "ename": "TypeError",
     "evalue": "Orientation.getUnitVectorFromDegrees() missing 1 required positional argument: 'degrees'",
     "output_type": "error",
     "traceback": [
      "\u001b[0;31m---------------------------------------------------------------------------\u001b[0m",
      "\u001b[0;31mTypeError\u001b[0m                                 Traceback (most recent call last)",
      "Input \u001b[0;32mIn [26]\u001b[0m, in \u001b[0;36m<cell line: 17>\u001b[0;34m()\u001b[0m\n\u001b[1;32m     14\u001b[0m     \u001b[38;5;28;01mdef\u001b[39;00m \u001b[38;5;21mgetNextPos\u001b[39m(\u001b[38;5;28mself\u001b[39m):\n\u001b[1;32m     15\u001b[0m         \u001b[38;5;28;01mreturn\u001b[39;00m \u001b[38;5;28mself\u001b[39m\u001b[38;5;241m.\u001b[39mx_pos \u001b[38;5;241m+\u001b[39m \u001b[38;5;28mself\u001b[39m\u001b[38;5;241m.\u001b[39mx_dir, \u001b[38;5;28mself\u001b[39m\u001b[38;5;241m.\u001b[39my_pos \u001b[38;5;241m+\u001b[39m \u001b[38;5;28mself\u001b[39m\u001b[38;5;241m.\u001b[39my_dir\n\u001b[0;32m---> 17\u001b[0m myOrientation \u001b[38;5;241m=\u001b[39m \u001b[43mOrientation\u001b[49m\u001b[43m(\u001b[49m\u001b[38;5;241;43m5\u001b[39;49m\u001b[43m,\u001b[49m\u001b[38;5;241;43m5\u001b[39;49m\u001b[43m,\u001b[49m\u001b[38;5;241;43m75\u001b[39;49m\u001b[43m)\u001b[49m\n\u001b[1;32m     18\u001b[0m myOrientation\u001b[38;5;241m.\u001b[39mgetNextPos()\n",
      "Input \u001b[0;32mIn [26]\u001b[0m, in \u001b[0;36mOrientation.__init__\u001b[0;34m(self, x_pos, y_pos, degrees)\u001b[0m\n\u001b[1;32m      4\u001b[0m \u001b[38;5;28mself\u001b[39m\u001b[38;5;241m.\u001b[39mx_pos \u001b[38;5;241m=\u001b[39m x_pos\n\u001b[1;32m      5\u001b[0m \u001b[38;5;28mself\u001b[39m\u001b[38;5;241m.\u001b[39my_pos \u001b[38;5;241m=\u001b[39m y_pos\n\u001b[0;32m----> 6\u001b[0m \u001b[38;5;28mself\u001b[39m\u001b[38;5;241m.\u001b[39mx_dir, \u001b[38;5;28mself\u001b[39m\u001b[38;5;241m.\u001b[39my_dir \u001b[38;5;241m=\u001b[39m \u001b[38;5;28;43mself\u001b[39;49m\u001b[38;5;241;43m.\u001b[39;49m\u001b[43mgetUnitVectorFromDegrees\u001b[49m\u001b[43m(\u001b[49m\u001b[43mdegrees\u001b[49m\u001b[43m)\u001b[49m\n",
      "\u001b[0;31mTypeError\u001b[0m: Orientation.getUnitVectorFromDegrees() missing 1 required positional argument: 'degrees'"
     ]
    }
   ],
   "source": [
    "class Orientation:\n",
    "    pi = 3.14\n",
    "    def __init__(self, x_pos, y_pos, degrees):\n",
    "        self.x_pos = x_pos\n",
    "        self.y_pos = y_pos\n",
    "        self.x_dir, self.y_dir = self.getUnitVectorFromDegrees(degrees)\n",
    "    @staticmethod    \n",
    "    # static method\n",
    "    def getUnitVectorFromDegrees(self, degrees):\n",
    "        radians = (degrees/180) * Orientation.pi\n",
    "        return math.sin(radians), -math.cos(radians)\n",
    "    \n",
    "    # instance method: belongs to a particular instance of the class\n",
    "    def getNextPos(self):\n",
    "        return self.x_pos + self.x_dir, self.y_pos + self.y_dir\n",
    "    \n",
    "myOrientation = Orientation(5,5,75)\n",
    "myOrientation.getNextPos()"
   ]
  },
  {
   "cell_type": "markdown",
   "id": "ed0c7a41-7d8a-4b25-ad0d-fc4a883b18c0",
   "metadata": {
    "tags": []
   },
   "source": [
    "### Class Inheritance"
   ]
  },
  {
   "cell_type": "code",
   "execution_count": 32,
   "id": "0281271e-f26d-4af1-a5f4-ed567237a386",
   "metadata": {},
   "outputs": [],
   "source": [
    "class dog:\n",
    "    _legs = 4\n",
    "    def __init__(self, name):\n",
    "        self.name = name\n",
    "    \n",
    "    def speak(self):\n",
    "        print(self.name + ' says: ye!')\n",
    "        \n",
    "    def getLegs(self):\n",
    "        return self._legs\n",
    "    \n",
    "class Chihuahua(Dog):\n",
    "    def speak(self):\n",
    "        print(f'{self.name} says: yep yep!')\n",
    "        \n",
    "    def wagTail(self):\n",
    "        print('Vigrous wagging!')"
   ]
  },
  {
   "cell_type": "code",
   "execution_count": 36,
   "id": "e7bcbd52-402a-4dd3-97eb-c7d9c6c218e4",
   "metadata": {},
   "outputs": [
    {
     "name": "stdout",
     "output_type": "stream",
     "text": [
      "Roxy says: yep yep!\n",
      "Vigrous wagging!\n"
     ]
    }
   ],
   "source": [
    "dog = Chihuahua('Roxy')\n",
    "dog.speak()\n",
    "dog.wagTail()"
   ]
  },
  {
   "cell_type": "code",
   "execution_count": 37,
   "id": "8c20fd53-ab96-4606-9f4f-63029f58993a",
   "metadata": {},
   "outputs": [
    {
     "name": "stdout",
     "output_type": "stream",
     "text": [
      "Rover says: Bark!\n"
     ]
    }
   ],
   "source": [
    "myDog = Dog('Rover')\n",
    "myDog.speak()"
   ]
  },
  {
   "cell_type": "code",
   "execution_count": 38,
   "id": "10755212-f4b7-4485-bba6-e35c01eaed1f",
   "metadata": {},
   "outputs": [
    {
     "ename": "AttributeError",
     "evalue": "'Dog' object has no attribute 'wagTail'",
     "output_type": "error",
     "traceback": [
      "\u001b[0;31m---------------------------------------------------------------------------\u001b[0m",
      "\u001b[0;31mAttributeError\u001b[0m                            Traceback (most recent call last)",
      "Input \u001b[0;32mIn [38]\u001b[0m, in \u001b[0;36m<cell line: 1>\u001b[0;34m()\u001b[0m\n\u001b[0;32m----> 1\u001b[0m \u001b[43mmyDog\u001b[49m\u001b[38;5;241;43m.\u001b[39;49m\u001b[43mwagTail\u001b[49m()\n",
      "\u001b[0;31mAttributeError\u001b[0m: 'Dog' object has no attribute 'wagTail'"
     ]
    }
   ],
   "source": [
    "myDog.wagTail()"
   ]
  },
  {
   "cell_type": "markdown",
   "id": "a6a5139f-7f0b-4fcb-9b01-bb7698dc0c5f",
   "metadata": {},
   "source": [
    "#### Extending built-in classes"
   ]
  },
  {
   "cell_type": "code",
   "execution_count": 39,
   "id": "6fe5c55d-dc93-4cab-87c4-ffa014dcbf3a",
   "metadata": {},
   "outputs": [],
   "source": [
    "myList = list()"
   ]
  },
  {
   "cell_type": "code",
   "execution_count": 45,
   "id": "1a0b049a-bd3c-4c5a-96bd-6f949659d886",
   "metadata": {},
   "outputs": [
    {
     "data": {
      "text/plain": [
       "[1, 2]"
      ]
     },
     "execution_count": 45,
     "metadata": {},
     "output_type": "execute_result"
    }
   ],
   "source": [
    "class UniqueList(list):\n",
    "    def append(self, item):\n",
    "        if item in self:\n",
    "            return \n",
    "        super().append(item) \n",
    "        # super(): get access to functions of sibling/parent classes\n",
    "        # parent class of UniqueList is the list class\n",
    "        \n",
    "uniqueList = UniqueList()\n",
    "uniqueList.append(1)\n",
    "uniqueList.append(2)\n",
    "uniqueList.append(2)\n",
    "uniqueList"
   ]
  },
  {
   "cell_type": "code",
   "execution_count": 49,
   "id": "5d54c1d4-097e-4daf-a206-48d7c500b188",
   "metadata": {},
   "outputs": [
    {
     "name": "stdout",
     "output_type": "stream",
     "text": [
      "Unique List!\n"
     ]
    }
   ],
   "source": [
    "class UniqueList(list):\n",
    "    \n",
    "    def __init__(self):\n",
    "        super().__init__()\n",
    "        self.someProperty = 'Unique List!'\n",
    "        \n",
    "    def append(self, item):\n",
    "        if item in self:\n",
    "            return \n",
    "        super().append(item)\n",
    "        \n",
    "uniqueList = UniqueList()\n",
    "uniqueList.append(1)\n",
    "uniqueList.append(2)\n",
    "uniqueList.append(2)\n",
    "uniqueList"
   ]
  },
  {
   "cell_type": "code",
   "execution_count": 50,
   "id": "b25aa95d-5f27-4f46-b552-de77bda636f5",
   "metadata": {},
   "outputs": [
    {
     "name": "stdout",
     "output_type": "stream",
     "text": [
      "Unique List!\n"
     ]
    }
   ],
   "source": [
    "print(uniqueList.someProperty)"
   ]
  },
  {
   "cell_type": "code",
   "execution_count": null,
   "id": "8bf80ce2-0002-4be5-9b16-591c8dd1cca4",
   "metadata": {},
   "outputs": [],
   "source": []
  }
 ],
 "metadata": {
  "kernelspec": {
   "display_name": "Python 3 (ipykernel)",
   "language": "python",
   "name": "python3"
  },
  "language_info": {
   "codemirror_mode": {
    "name": "ipython",
    "version": 3
   },
   "file_extension": ".py",
   "mimetype": "text/x-python",
   "name": "python",
   "nbconvert_exporter": "python",
   "pygments_lexer": "ipython3",
   "version": "3.10.6"
  }
 },
 "nbformat": 4,
 "nbformat_minor": 5
}
