{
 "cells": [
  {
   "cell_type": "markdown",
   "id": "ef875826-50e2-4b2f-a0b9-09f18b4b0184",
   "metadata": {},
   "source": [
    "### List"
   ]
  },
  {
   "cell_type": "code",
   "execution_count": 134,
   "id": "d3d23126-d074-4a53-b6f7-85bf54e05650",
   "metadata": {},
   "outputs": [
    {
     "name": "stdout",
     "output_type": "stream",
     "text": [
      "[1, 2, 3, 4]\n"
     ]
    }
   ],
   "source": [
    "listf = [1,2,3,4]\n",
    "print(listf)"
   ]
  },
  {
   "cell_type": "code",
   "execution_count": 135,
   "id": "0499faa7-0ad5-4c80-a533-8f80ffb11316",
   "metadata": {},
   "outputs": [],
   "source": [
    "lista = ['list', 'of', 'string']"
   ]
  },
  {
   "cell_type": "code",
   "execution_count": 136,
   "id": "929b26d9-a26c-4203-9e0a-2abc9162afb4",
   "metadata": {},
   "outputs": [],
   "source": [
    "listb = [1, 'list', False, []]"
   ]
  },
  {
   "cell_type": "code",
   "execution_count": 137,
   "id": "b79df1c7-c5be-4afc-bd51-78128de27ce7",
   "metadata": {},
   "outputs": [],
   "source": [
    "listc = [[1,2,3],[False, True],[1, False, []]]"
   ]
  },
  {
   "cell_type": "code",
   "execution_count": 138,
   "id": "274c971b-0e83-4da8-b303-bb10af043c86",
   "metadata": {},
   "outputs": [
    {
     "data": {
      "text/plain": [
       "3"
      ]
     },
     "execution_count": 138,
     "metadata": {},
     "output_type": "execute_result"
    }
   ],
   "source": [
    "len(listc)"
   ]
  },
  {
   "cell_type": "code",
   "execution_count": 139,
   "id": "e4b15cd2-10dd-4444-98fa-a98527dd6522",
   "metadata": {},
   "outputs": [
    {
     "name": "stdout",
     "output_type": "stream",
     "text": [
      "['list', 'of', 'string', 'a']\n"
     ]
    }
   ],
   "source": [
    "lista.append(\"a\")\n",
    "print(lista)"
   ]
  },
  {
   "cell_type": "markdown",
   "id": "16a85520-0846-42a2-bf9c-db97ac4ac252",
   "metadata": {},
   "source": [
    "List: Order matters, can contain repetitions"
   ]
  },
  {
   "cell_type": "code",
   "execution_count": 140,
   "id": "31490844-bd41-4082-b3c5-d1bb6d0b89f8",
   "metadata": {},
   "outputs": [
    {
     "data": {
      "text/plain": [
       "[4]"
      ]
     },
     "execution_count": 140,
     "metadata": {},
     "output_type": "execute_result"
    }
   ],
   "source": [
    "listf[3:]"
   ]
  },
  {
   "cell_type": "code",
   "execution_count": 141,
   "id": "a9681a18-9f0d-47ef-840d-db977ba508d2",
   "metadata": {},
   "outputs": [
    {
     "data": {
      "text/plain": [
       "[1, 3]"
      ]
     },
     "execution_count": 141,
     "metadata": {},
     "output_type": "execute_result"
    }
   ],
   "source": [
    "# the index 0 to index 6, 2 items apart\n",
    "listf[0:6:2]"
   ]
  },
  {
   "cell_type": "code",
   "execution_count": 142,
   "id": "5c79e107-e654-423b-bf95-86db09bac033",
   "metadata": {},
   "outputs": [
    {
     "data": {
      "text/plain": [
       "[1, 3]"
      ]
     },
     "execution_count": 142,
     "metadata": {},
     "output_type": "execute_result"
    }
   ],
   "source": [
    "listf[::2]"
   ]
  },
  {
   "cell_type": "code",
   "execution_count": 143,
   "id": "64f77183-17c2-4e17-ac36-7642ccc886b6",
   "metadata": {},
   "outputs": [
    {
     "name": "stdout",
     "output_type": "stream",
     "text": [
      "0\n",
      "1\n",
      "2\n",
      "3\n",
      "4\n",
      "5\n",
      "6\n",
      "7\n",
      "8\n",
      "9\n"
     ]
    }
   ],
   "source": [
    "for i in range(10):\n",
    "    print(i)"
   ]
  },
  {
   "cell_type": "code",
   "execution_count": 144,
   "id": "f26d2951-4a78-49fc-84ae-92427ac6c3b4",
   "metadata": {},
   "outputs": [],
   "source": [
    "liste =list(range(10))"
   ]
  },
  {
   "cell_type": "code",
   "execution_count": 145,
   "id": "ded1f9fd-ac5c-467a-bd1c-8fc775c24291",
   "metadata": {},
   "outputs": [
    {
     "data": {
      "text/plain": [
       "[0, 2, 4, 6, 8]"
      ]
     },
     "execution_count": 145,
     "metadata": {},
     "output_type": "execute_result"
    }
   ],
   "source": [
    "#每隔两个\n",
    "liste[::2]"
   ]
  },
  {
   "cell_type": "code",
   "execution_count": 146,
   "id": "b25bd280-4d24-45d9-8079-65112d9c7a57",
   "metadata": {},
   "outputs": [
    {
     "data": {
      "text/plain": [
       "[9, 7, 5, 3, 1]"
      ]
     },
     "execution_count": 146,
     "metadata": {},
     "output_type": "execute_result"
    }
   ],
   "source": [
    "#倒着数\n",
    "liste[::-2]"
   ]
  },
  {
   "cell_type": "code",
   "execution_count": 147,
   "id": "d2fc1421-d862-432e-84e2-bb7e32af77ae",
   "metadata": {},
   "outputs": [
    {
     "name": "stdout",
     "output_type": "stream",
     "text": [
      "[1, 2, 3, 'a new value', 4]\n"
     ]
    }
   ],
   "source": [
    "# postion index3, value\n",
    "listf.insert(3, 'a new value')\n",
    "print(listf)         "
   ]
  },
  {
   "cell_type": "code",
   "execution_count": 148,
   "id": "f0252535-0f59-4848-a86f-c5069d1d9ee9",
   "metadata": {},
   "outputs": [
    {
     "name": "stdout",
     "output_type": "stream",
     "text": [
      "[1, 2, 'a new value', 4]\n"
     ]
    }
   ],
   "source": [
    "listf.remove(3)\n",
    "print(listf)"
   ]
  },
  {
   "cell_type": "code",
   "execution_count": 149,
   "id": "4c347afb-c5b1-40b7-9e15-2962778326b5",
   "metadata": {},
   "outputs": [
    {
     "data": {
      "text/plain": [
       "4"
      ]
     },
     "execution_count": 149,
     "metadata": {},
     "output_type": "execute_result"
    }
   ],
   "source": [
    "listf.pop()"
   ]
  },
  {
   "cell_type": "code",
   "execution_count": 150,
   "id": "f35974ef-f503-4029-9123-5feb77fb6627",
   "metadata": {},
   "outputs": [
    {
     "data": {
      "text/plain": [
       "[1, 2, 'a new value']"
      ]
     },
     "execution_count": 150,
     "metadata": {},
     "output_type": "execute_result"
    }
   ],
   "source": [
    "listf"
   ]
  },
  {
   "cell_type": "code",
   "execution_count": 151,
   "id": "d5289ffd-6770-4afb-bd1a-d9e67e99164d",
   "metadata": {},
   "outputs": [
    {
     "name": "stdout",
     "output_type": "stream",
     "text": [
      "a new value\n",
      "2\n",
      "1\n"
     ]
    }
   ],
   "source": [
    "while len(listf):\n",
    "    print(listf.pop())"
   ]
  },
  {
   "cell_type": "code",
   "execution_count": 152,
   "id": "24791c05-14f1-4f94-a884-0b1dd68cc879",
   "metadata": {},
   "outputs": [
    {
     "name": "stdout",
     "output_type": "stream",
     "text": [
      "[1, 2, 3, 4, 5, 6]\n"
     ]
    }
   ],
   "source": [
    "#because a and b are pointing to the same memory block\n",
    "a = [1,2,3,4,5]\n",
    "b = a\n",
    "a.append(6)\n",
    "print(b)"
   ]
  },
  {
   "cell_type": "code",
   "execution_count": 153,
   "id": "429acf25-8d3a-4834-bc1f-0f3718ff113c",
   "metadata": {},
   "outputs": [
    {
     "name": "stdout",
     "output_type": "stream",
     "text": [
      "[1, 2, 3, 4, 5]\n"
     ]
    }
   ],
   "source": [
    "a = [1,2,3,4,5]\n",
    "b = a.copy()\n",
    "a.append(6)\n",
    "print(b)"
   ]
  },
  {
   "cell_type": "code",
   "execution_count": 168,
   "id": "6401f67e-20f6-4e65-a979-27490bfd8d7b",
   "metadata": {},
   "outputs": [
    {
     "data": {
      "text/plain": [
       "[3, 6, 9, 12, 15]"
      ]
     },
     "execution_count": 168,
     "metadata": {},
     "output_type": "execute_result"
    }
   ],
   "source": [
    "myList = [1,2,3,4,5]\n",
    "[3*item for item in myList]"
   ]
  },
  {
   "cell_type": "code",
   "execution_count": 169,
   "id": "7d04f6d1-3bcf-4915-8e24-ecd26d1c92ec",
   "metadata": {},
   "outputs": [
    {
     "data": {
      "text/plain": [
       "[0, 10, 20, 30, 40, 50, 60, 70, 80, 90]"
      ]
     },
     "execution_count": 169,
     "metadata": {},
     "output_type": "execute_result"
    }
   ],
   "source": [
    "myList = list(range(100))\n",
    "filteredList = [item for item in myList if item % 10 == 0]\n",
    "filteredList"
   ]
  },
  {
   "cell_type": "code",
   "execution_count": 170,
   "id": "73f6be22-e6b6-4dac-9a33-ee7a8a093c55",
   "metadata": {},
   "outputs": [
    {
     "name": "stdout",
     "output_type": "stream",
     "text": [
      "[0, 1, 2, 10, 11, 12, 20, 21, 22, 30, 31, 32, 40, 41, 42, 50, 51, 52, 60, 61, 62, 70, 71, 72, 80, 81, 82, 90, 91, 92]\n"
     ]
    }
   ],
   "source": [
    "filteredList = [item for item in myList if item % 10 < 3]\n",
    "print(filteredList)"
   ]
  },
  {
   "cell_type": "code",
   "execution_count": 171,
   "id": "a7efe153-e99c-447f-be10-0b7b7184bef3",
   "metadata": {},
   "outputs": [
    {
     "data": {
      "text/plain": [
       "['My name is Su', ' I live in Vancouver']"
      ]
     },
     "execution_count": 171,
     "metadata": {},
     "output_type": "execute_result"
    }
   ],
   "source": [
    "myString = 'My name is Su. I live in Vancouver'\n",
    "myString.split('.')"
   ]
  },
  {
   "cell_type": "code",
   "execution_count": 172,
   "id": "da2530f2-e040-43d6-aeb1-c1f2ca876eb1",
   "metadata": {},
   "outputs": [
    {
     "data": {
      "text/plain": [
       "['My', 'name', 'is', 'Su.', 'I', 'live', 'in', 'Vancouver']"
      ]
     },
     "execution_count": 172,
     "metadata": {},
     "output_type": "execute_result"
    }
   ],
   "source": [
    "myString.split()"
   ]
  },
  {
   "cell_type": "code",
   "execution_count": 175,
   "id": "b3d4078e-ecab-430b-9a94-a252218fc801",
   "metadata": {},
   "outputs": [],
   "source": [
    "def cleanWord(word):\n",
    "    return word.replace('.','').lower()"
   ]
  },
  {
   "cell_type": "code",
   "execution_count": 176,
   "id": "5c185f8f-95ae-486a-abd6-6a51e0446fa8",
   "metadata": {},
   "outputs": [
    {
     "data": {
      "text/plain": [
       "['my', 'name', 'is', 'su', 'i', 'live', 'in', 'vancouver']"
      ]
     },
     "execution_count": 176,
     "metadata": {},
     "output_type": "execute_result"
    }
   ],
   "source": [
    "[cleanWord(word) for word in myString.split()]"
   ]
  },
  {
   "cell_type": "code",
   "execution_count": 177,
   "id": "70e6f9a0-b34a-4e3b-ab12-e7cdd6037e86",
   "metadata": {},
   "outputs": [
    {
     "data": {
      "text/plain": [
       "['my', 'is', 'su', 'i', 'in']"
      ]
     },
     "execution_count": 177,
     "metadata": {},
     "output_type": "execute_result"
    }
   ],
   "source": [
    "[cleanWord(word) for word in myString.split() if len(cleanWord(word)) < 3]"
   ]
  },
  {
   "cell_type": "code",
   "execution_count": 180,
   "id": "2c6a3662-8501-47c2-acd5-25ef9c02b2f0",
   "metadata": {},
   "outputs": [
    {
     "data": {
      "text/plain": [
       "[['my', 'name', 'is', 'su'], ['i', 'live', 'in', 'vancouver']]"
      ]
     },
     "execution_count": 180,
     "metadata": {},
     "output_type": "execute_result"
    }
   ],
   "source": [
    "[[cleanWord(word) for word in sentence.split()] for sentence in myString.split('.')]"
   ]
  },
  {
   "cell_type": "markdown",
   "id": "48b332ec-a92c-4247-978a-1c38f396d91a",
   "metadata": {},
   "source": [
    "### Set"
   ]
  },
  {
   "cell_type": "code",
   "execution_count": 154,
   "id": "239dd533-6b3e-445f-ae2e-28d76462d88b",
   "metadata": {},
   "outputs": [
    {
     "name": "stdout",
     "output_type": "stream",
     "text": [
      "{1, 2, 3, 4, 5}\n"
     ]
    }
   ],
   "source": [
    "set = {1,2,3,4,5}\n",
    "print(set)"
   ]
  },
  {
   "cell_type": "code",
   "execution_count": 16,
   "id": "1b942daa-01b7-4044-b106-1bc4918b6e9e",
   "metadata": {},
   "outputs": [
    {
     "data": {
      "text/plain": [
       "set"
      ]
     },
     "execution_count": 16,
     "metadata": {},
     "output_type": "execute_result"
    }
   ],
   "source": [
    "type(set)"
   ]
  },
  {
   "cell_type": "code",
   "execution_count": 17,
   "id": "f716965b-4470-481a-9a31-890e6e4122cb",
   "metadata": {},
   "outputs": [
    {
     "data": {
      "text/plain": [
       "list"
      ]
     },
     "execution_count": 17,
     "metadata": {},
     "output_type": "execute_result"
    }
   ],
   "source": [
    "type(list)"
   ]
  },
  {
   "cell_type": "code",
   "execution_count": 18,
   "id": "de64b5d3-c79e-4cd0-95ee-02e7a4e7d494",
   "metadata": {},
   "outputs": [
    {
     "data": {
      "text/plain": [
       "5"
      ]
     },
     "execution_count": 18,
     "metadata": {},
     "output_type": "execute_result"
    }
   ],
   "source": [
    "len(set)"
   ]
  },
  {
   "cell_type": "code",
   "execution_count": 21,
   "id": "295da873-69b5-4249-8e7c-228a5368732e",
   "metadata": {},
   "outputs": [],
   "source": [
    "setRep = {1,1,2,3}"
   ]
  },
  {
   "cell_type": "code",
   "execution_count": 22,
   "id": "4ff986d2-a693-45f5-a9fb-9a0b7f517b3f",
   "metadata": {},
   "outputs": [
    {
     "data": {
      "text/plain": [
       "3"
      ]
     },
     "execution_count": 22,
     "metadata": {},
     "output_type": "execute_result"
    }
   ],
   "source": [
    "len(setRep)"
   ]
  },
  {
   "cell_type": "code",
   "execution_count": 23,
   "id": "9cbedaf2-eb31-4250-9769-0e00200ab7e1",
   "metadata": {},
   "outputs": [
    {
     "name": "stdout",
     "output_type": "stream",
     "text": [
      "{1, 2, 3}\n"
     ]
    }
   ],
   "source": [
    "print(setRep)"
   ]
  },
  {
   "cell_type": "code",
   "execution_count": 24,
   "id": "65427bd3-ac89-443a-a2b4-c4cc16a4ef67",
   "metadata": {},
   "outputs": [
    {
     "data": {
      "text/plain": [
       "True"
      ]
     },
     "execution_count": 24,
     "metadata": {},
     "output_type": "execute_result"
    }
   ],
   "source": [
    "[1,2] == [1,2]"
   ]
  },
  {
   "cell_type": "code",
   "execution_count": 25,
   "id": "72aaf659-2563-42be-8e6d-d14896f895cd",
   "metadata": {},
   "outputs": [
    {
     "data": {
      "text/plain": [
       "False"
      ]
     },
     "execution_count": 25,
     "metadata": {},
     "output_type": "execute_result"
    }
   ],
   "source": [
    "[1,2] == [2,1]"
   ]
  },
  {
   "cell_type": "code",
   "execution_count": 26,
   "id": "2f52f554-4db8-4ec2-8e12-c3d1d876c382",
   "metadata": {},
   "outputs": [
    {
     "data": {
      "text/plain": [
       "True"
      ]
     },
     "execution_count": 26,
     "metadata": {},
     "output_type": "execute_result"
    }
   ],
   "source": [
    "{1,2} == {2,1}"
   ]
  },
  {
   "cell_type": "code",
   "execution_count": 27,
   "id": "5057160e-4a7f-42fe-8958-acd10af88517",
   "metadata": {},
   "outputs": [
    {
     "data": {
      "text/plain": [
       "True"
      ]
     },
     "execution_count": 27,
     "metadata": {},
     "output_type": "execute_result"
    }
   ],
   "source": [
    "{1,2,1} == {2,1}"
   ]
  },
  {
   "cell_type": "markdown",
   "id": "bf1f7399-0aab-492a-aa7e-e5a612112bb8",
   "metadata": {},
   "source": [
    "Set: Order not matter, repetition only count as one"
   ]
  },
  {
   "cell_type": "code",
   "execution_count": 31,
   "id": "89ff256b-b434-4d37-bdb8-c025869e5c27",
   "metadata": {},
   "outputs": [
    {
     "data": {
      "text/plain": [
       "{'a', 'b', 'c'}"
      ]
     },
     "execution_count": 31,
     "metadata": {},
     "output_type": "execute_result"
    }
   ],
   "source": [
    "mySet = set(['a','b','c',])\n",
    "mySet"
   ]
  },
  {
   "cell_type": "code",
   "execution_count": 32,
   "id": "0ac2a153-82f3-4d45-b1e4-99308a9c6165",
   "metadata": {},
   "outputs": [
    {
     "data": {
      "text/plain": [
       "{'a', 'b', 'c'}"
      ]
     },
     "execution_count": 32,
     "metadata": {},
     "output_type": "execute_result"
    }
   ],
   "source": [
    "mySet = set(('a','b','c',))\n",
    "mySet"
   ]
  },
  {
   "cell_type": "code",
   "execution_count": 33,
   "id": "3e070ecf-beb3-41dd-81e5-58f48e86a8a8",
   "metadata": {},
   "outputs": [
    {
     "data": {
      "text/plain": [
       "['c', 'a', 'b']"
      ]
     },
     "execution_count": 33,
     "metadata": {},
     "output_type": "execute_result"
    }
   ],
   "source": [
    "myList = ['a','b','c','c']\n",
    "myList = list(set(myList))\n",
    "myList"
   ]
  },
  {
   "cell_type": "code",
   "execution_count": 34,
   "id": "118123fd-6f6c-4405-879e-6c471e28c60a",
   "metadata": {},
   "outputs": [
    {
     "ename": "TypeError",
     "evalue": "'set' object is not subscriptable",
     "output_type": "error",
     "traceback": [
      "\u001b[0;31m---------------------------------------------------------------------------\u001b[0m",
      "\u001b[0;31mTypeError\u001b[0m                                 Traceback (most recent call last)",
      "Input \u001b[0;32mIn [34]\u001b[0m, in \u001b[0;36m<cell line: 1>\u001b[0;34m()\u001b[0m\n\u001b[0;32m----> 1\u001b[0m \u001b[43mmySet\u001b[49m\u001b[43m[\u001b[49m\u001b[38;5;241;43m0\u001b[39;49m\u001b[43m]\u001b[49m\n",
      "\u001b[0;31mTypeError\u001b[0m: 'set' object is not subscriptable"
     ]
    }
   ],
   "source": [
    "mySet[0]"
   ]
  },
  {
   "cell_type": "code",
   "execution_count": 36,
   "id": "ca9b68e8-4b53-4c41-af2a-1ff78dd708b7",
   "metadata": {},
   "outputs": [
    {
     "data": {
      "text/plain": [
       "{'a', 'b', 'c', 'd'}"
      ]
     },
     "execution_count": 36,
     "metadata": {},
     "output_type": "execute_result"
    }
   ],
   "source": [
    "mySet.add('d')\n",
    "mySet"
   ]
  },
  {
   "cell_type": "code",
   "execution_count": 38,
   "id": "918c127a-4135-47ca-888d-81dde13553c3",
   "metadata": {},
   "outputs": [
    {
     "data": {
      "text/plain": [
       "True"
      ]
     },
     "execution_count": 38,
     "metadata": {},
     "output_type": "execute_result"
    }
   ],
   "source": [
    "'a' in mySet"
   ]
  },
  {
   "cell_type": "code",
   "execution_count": 39,
   "id": "fd12eab2-0c03-4793-803c-c72e4a9aad72",
   "metadata": {},
   "outputs": [
    {
     "data": {
      "text/plain": [
       "False"
      ]
     },
     "execution_count": 39,
     "metadata": {},
     "output_type": "execute_result"
    }
   ],
   "source": [
    "'z' in mySet"
   ]
  },
  {
   "cell_type": "code",
   "execution_count": 44,
   "id": "871b946a-acf5-4e87-9258-5ac8cb9d2b5f",
   "metadata": {},
   "outputs": [
    {
     "data": {
      "text/plain": [
       "3"
      ]
     },
     "execution_count": 44,
     "metadata": {},
     "output_type": "execute_result"
    }
   ],
   "source": [
    "len(myList)"
   ]
  },
  {
   "cell_type": "code",
   "execution_count": 45,
   "id": "57d52079-5f76-40f7-9c65-e29580d7f1c4",
   "metadata": {},
   "outputs": [],
   "source": [
    "while len(mySet):\n",
    "    print(mySet.pop())"
   ]
  },
  {
   "cell_type": "code",
   "execution_count": 47,
   "id": "4d426b4f-5964-4267-a139-ef4dea3d1b57",
   "metadata": {},
   "outputs": [
    {
     "data": {
      "text/plain": [
       "set()"
      ]
     },
     "execution_count": 47,
     "metadata": {},
     "output_type": "execute_result"
    }
   ],
   "source": [
    "mySet"
   ]
  },
  {
   "cell_type": "code",
   "execution_count": 48,
   "id": "0d4728cd-d8f0-48c7-9fa3-09ca58802a5b",
   "metadata": {},
   "outputs": [],
   "source": [
    "mySet = {'a','b','c'}"
   ]
  },
  {
   "cell_type": "code",
   "execution_count": 50,
   "id": "9c21279d-0147-4151-9077-5e4964d270e7",
   "metadata": {},
   "outputs": [
    {
     "data": {
      "text/plain": [
       "{'b', 'c'}"
      ]
     },
     "execution_count": 50,
     "metadata": {},
     "output_type": "execute_result"
    }
   ],
   "source": [
    "mySet.discard('a')\n",
    "mySet"
   ]
  },
  {
   "cell_type": "markdown",
   "id": "31900813-5742-494b-b471-09ea63658e58",
   "metadata": {},
   "source": [
    "### Tuple"
   ]
  },
  {
   "cell_type": "code",
   "execution_count": 52,
   "id": "ced35d1d-3f78-47a8-8ce7-cd0a01380342",
   "metadata": {},
   "outputs": [],
   "source": [
    "tuple = (1,2,3)"
   ]
  },
  {
   "cell_type": "code",
   "execution_count": 53,
   "id": "21b06d79-69b9-43a0-a252-642fcba2d42a",
   "metadata": {},
   "outputs": [
    {
     "data": {
      "text/plain": [
       "3"
      ]
     },
     "execution_count": 53,
     "metadata": {},
     "output_type": "execute_result"
    }
   ],
   "source": [
    "len(tuple)"
   ]
  },
  {
   "cell_type": "code",
   "execution_count": 54,
   "id": "8b0b7013-1f92-4ebf-b627-73287a3e99f9",
   "metadata": {},
   "outputs": [
    {
     "data": {
      "text/plain": [
       "False"
      ]
     },
     "execution_count": 54,
     "metadata": {},
     "output_type": "execute_result"
    }
   ],
   "source": [
    "(1,2) == (2,1)"
   ]
  },
  {
   "cell_type": "code",
   "execution_count": 55,
   "id": "46061654-e1e3-4b0e-ae11-7747d87135f3",
   "metadata": {},
   "outputs": [],
   "source": [
    "tuplea = ('a','b')"
   ]
  },
  {
   "cell_type": "code",
   "execution_count": 56,
   "id": "5b24c94c-3afd-4e7e-b933-8b394bae8252",
   "metadata": {},
   "outputs": [],
   "source": [
    "tupleb = ('a','b',1)"
   ]
  },
  {
   "cell_type": "markdown",
   "id": "aea1aeae-97e7-42b0-a797-9bc89643df45",
   "metadata": {},
   "source": [
    "Tuples cannot be modified"
   ]
  },
  {
   "cell_type": "code",
   "execution_count": 57,
   "id": "ccc0b2a9-c2c7-4e73-822d-a441c515343b",
   "metadata": {},
   "outputs": [
    {
     "data": {
      "text/plain": [
       "'a'"
      ]
     },
     "execution_count": 57,
     "metadata": {},
     "output_type": "execute_result"
    }
   ],
   "source": [
    "tupleb[0]"
   ]
  },
  {
   "cell_type": "code",
   "execution_count": 58,
   "id": "4b68ce72-88ec-45fd-acfe-511de33087b2",
   "metadata": {},
   "outputs": [
    {
     "data": {
      "text/plain": [
       "tuple"
      ]
     },
     "execution_count": 58,
     "metadata": {},
     "output_type": "execute_result"
    }
   ],
   "source": [
    "def returnMultipleValues():\n",
    "    return 1,2,3\n",
    "\n",
    "type(returnMultipleValues())"
   ]
  },
  {
   "cell_type": "code",
   "execution_count": 59,
   "id": "55ef1aa2-9710-46cf-a66d-b6bf990be672",
   "metadata": {},
   "outputs": [],
   "source": [
    "myTuple = 1,2,3"
   ]
  },
  {
   "cell_type": "code",
   "execution_count": 62,
   "id": "340cf12a-30fb-4163-84c3-55a55a4282d2",
   "metadata": {},
   "outputs": [
    {
     "data": {
      "text/plain": [
       "tuple"
      ]
     },
     "execution_count": 62,
     "metadata": {},
     "output_type": "execute_result"
    }
   ],
   "source": [
    "type(myTuple)"
   ]
  },
  {
   "cell_type": "code",
   "execution_count": 63,
   "id": "7f7166ad-614d-433e-898e-9c1e7ec6b27d",
   "metadata": {},
   "outputs": [],
   "source": [
    "a,b,c = returnMultipleValues()"
   ]
  },
  {
   "cell_type": "raw",
   "id": "cd5ef2e1-70f1-4777-82e6-7e67124a9047",
   "metadata": {},
   "source": [
    "print(a)\n",
    "print(b)\n",
    "print(c)"
   ]
  },
  {
   "cell_type": "markdown",
   "id": "c7517fb4-5122-41bf-b133-cd8ee797bec9",
   "metadata": {},
   "source": [
    "### Dictionaty"
   ]
  },
  {
   "cell_type": "code",
   "execution_count": 181,
   "id": "7c3502ce-2637-4c3c-892d-efdf067182b3",
   "metadata": {},
   "outputs": [],
   "source": [
    "# key : value\n",
    "\n",
    "dic = {\n",
    "    'apple' : 'A red fruit',\n",
    "    'Elsie' : 'A person'\n",
    "}"
   ]
  },
  {
   "cell_type": "code",
   "execution_count": 182,
   "id": "67381488-8556-4461-9249-e85dfa161d20",
   "metadata": {},
   "outputs": [
    {
     "data": {
      "text/plain": [
       "'A red fruit'"
      ]
     },
     "execution_count": 182,
     "metadata": {},
     "output_type": "execute_result"
    }
   ],
   "source": [
    "dic['apple']"
   ]
  },
  {
   "cell_type": "code",
   "execution_count": 183,
   "id": "bd553bdd-80b2-465c-9ae2-e008703c98e6",
   "metadata": {},
   "outputs": [],
   "source": [
    "dic = {\n",
    "    'apple' : 'A red fruit',\n",
    "    'Elsie' : 'A person',\n",
    "    'apple' : 'A fruit'\n",
    "}"
   ]
  },
  {
   "cell_type": "code",
   "execution_count": 184,
   "id": "2caaadff-3a05-408b-857f-4078987c0b7e",
   "metadata": {},
   "outputs": [
    {
     "data": {
      "text/plain": [
       "'A fruit'"
      ]
     },
     "execution_count": 184,
     "metadata": {},
     "output_type": "execute_result"
    }
   ],
   "source": [
    "dic['apple']"
   ]
  },
  {
   "cell_type": "markdown",
   "id": "83f7de52-0ffa-41f1-8e48-b406ecfa0ced",
   "metadata": {},
   "source": [
    "Dic takes the latest value, keys have to be unique, order does not matter"
   ]
  },
  {
   "cell_type": "code",
   "execution_count": 185,
   "id": "6d691611-0268-4b10-88bf-26f8c1aac4c8",
   "metadata": {},
   "outputs": [
    {
     "data": {
      "text/plain": [
       "{'apple': 'A fruit', 'Elsie': 'A person'}"
      ]
     },
     "execution_count": 185,
     "metadata": {},
     "output_type": "execute_result"
    }
   ],
   "source": [
    "dic"
   ]
  },
  {
   "cell_type": "code",
   "execution_count": 186,
   "id": "aa6d4f2c-76e8-44bb-bf0c-dc5cb5c53f51",
   "metadata": {},
   "outputs": [],
   "source": [
    "dic['Elsie'] = 'A high school student'"
   ]
  },
  {
   "cell_type": "code",
   "execution_count": 187,
   "id": "897dcf0f-11d7-40e2-ad3e-b0926b53fb95",
   "metadata": {},
   "outputs": [
    {
     "data": {
      "text/plain": [
       "{'apple': 'A fruit', 'Elsie': 'A high school student'}"
      ]
     },
     "execution_count": 187,
     "metadata": {},
     "output_type": "execute_result"
    }
   ],
   "source": [
    "dic"
   ]
  },
  {
   "cell_type": "code",
   "execution_count": 188,
   "id": "1ae60263-ad4a-494f-a77e-c88d9fb71ac8",
   "metadata": {},
   "outputs": [
    {
     "data": {
      "text/plain": [
       "dict_values(['A fruit', 'A high school student'])"
      ]
     },
     "execution_count": 188,
     "metadata": {},
     "output_type": "execute_result"
    }
   ],
   "source": [
    "dic.values()"
   ]
  },
  {
   "cell_type": "code",
   "execution_count": 189,
   "id": "1f99be26-6ecb-4cb7-8c9a-0df8e54b10bf",
   "metadata": {},
   "outputs": [
    {
     "data": {
      "text/plain": [
       "dict_keys(['apple', 'Elsie'])"
      ]
     },
     "execution_count": 189,
     "metadata": {},
     "output_type": "execute_result"
    }
   ],
   "source": [
    "dic.keys()"
   ]
  },
  {
   "cell_type": "code",
   "execution_count": 190,
   "id": "b57bb7cc-f3ca-488e-ac64-acb6a8c63cf4",
   "metadata": {},
   "outputs": [
    {
     "data": {
      "text/plain": [
       "['apple', 'Elsie']"
      ]
     },
     "execution_count": 190,
     "metadata": {},
     "output_type": "execute_result"
    }
   ],
   "source": [
    "list(dic.keys())"
   ]
  },
  {
   "cell_type": "code",
   "execution_count": 191,
   "id": "ec0e454a-c9ee-4c11-8f33-4ec2810b8695",
   "metadata": {},
   "outputs": [
    {
     "data": {
      "text/plain": [
       "'A high school student'"
      ]
     },
     "execution_count": 191,
     "metadata": {},
     "output_type": "execute_result"
    }
   ],
   "source": [
    "dic.get('Elsie')"
   ]
  },
  {
   "cell_type": "code",
   "execution_count": 192,
   "id": "93e5a9e0-8d06-4e69-9f8e-32d63d334df8",
   "metadata": {},
   "outputs": [
    {
     "ename": "KeyError",
     "evalue": "'Su'",
     "output_type": "error",
     "traceback": [
      "\u001b[0;31m---------------------------------------------------------------------------\u001b[0m",
      "\u001b[0;31mKeyError\u001b[0m                                  Traceback (most recent call last)",
      "Input \u001b[0;32mIn [192]\u001b[0m, in \u001b[0;36m<cell line: 1>\u001b[0;34m()\u001b[0m\n\u001b[0;32m----> 1\u001b[0m \u001b[43mdic\u001b[49m\u001b[43m[\u001b[49m\u001b[38;5;124;43m'\u001b[39;49m\u001b[38;5;124;43mSu\u001b[39;49m\u001b[38;5;124;43m'\u001b[39;49m\u001b[43m]\u001b[49m\n",
      "\u001b[0;31mKeyError\u001b[0m: 'Su'"
     ]
    }
   ],
   "source": [
    "dic['Su']"
   ]
  },
  {
   "cell_type": "code",
   "execution_count": 193,
   "id": "020d109c-61ba-4dee-b0eb-2d92a1bd61fc",
   "metadata": {},
   "outputs": [],
   "source": [
    "animals = {\n",
    "    'c' : ['cat', 'crab'],\n",
    "    'd' : ['dog', 'donkey']\n",
    "}"
   ]
  },
  {
   "cell_type": "code",
   "execution_count": 194,
   "id": "2ff16988-d4b0-4fff-aa72-1a4c50e58347",
   "metadata": {},
   "outputs": [],
   "source": [
    "animals['c'].append('chicken')"
   ]
  },
  {
   "cell_type": "code",
   "execution_count": 195,
   "id": "ae24899d-731a-4dc5-92d3-c1a3368090ef",
   "metadata": {},
   "outputs": [
    {
     "data": {
      "text/plain": [
       "{'c': ['cat', 'crab', 'chicken'], 'd': ['dog', 'donkey']}"
      ]
     },
     "execution_count": 195,
     "metadata": {},
     "output_type": "execute_result"
    }
   ],
   "source": [
    "animals"
   ]
  },
  {
   "cell_type": "code",
   "execution_count": 196,
   "id": "cedf1cfc-0700-4e19-81fa-a3c58720d188",
   "metadata": {},
   "outputs": [],
   "source": [
    "animals['e'] = ['eagle']"
   ]
  },
  {
   "cell_type": "code",
   "execution_count": 197,
   "id": "3683b2f5-6a84-483b-8189-38aa07f61b59",
   "metadata": {},
   "outputs": [],
   "source": [
    "if 'f' not in animals:\n",
    "    animals['f'] = []\n",
    "    \n",
    "animals['f'].append('frog')"
   ]
  },
  {
   "cell_type": "code",
   "execution_count": 198,
   "id": "267752f5-634f-47b4-859a-9229bc9be54d",
   "metadata": {},
   "outputs": [
    {
     "data": {
      "text/plain": [
       "{'c': ['cat', 'crab', 'chicken'],\n",
       " 'd': ['dog', 'donkey'],\n",
       " 'e': ['eagle'],\n",
       " 'f': ['frog']}"
      ]
     },
     "execution_count": 198,
     "metadata": {},
     "output_type": "execute_result"
    }
   ],
   "source": [
    "animals"
   ]
  },
  {
   "cell_type": "code",
   "execution_count": 199,
   "id": "0c76bb52-3212-4f61-81d9-3eef320671c2",
   "metadata": {},
   "outputs": [],
   "source": [
    "from collections import defaultdict"
   ]
  },
  {
   "cell_type": "code",
   "execution_count": 200,
   "id": "6bc63d38-518d-41b2-b5d8-17654ab9024f",
   "metadata": {},
   "outputs": [],
   "source": [
    "fruits = defaultdict(list)"
   ]
  },
  {
   "cell_type": "code",
   "execution_count": 201,
   "id": "8a14efb2-4b22-4aeb-9147-a424eddbc6cd",
   "metadata": {},
   "outputs": [
    {
     "data": {
      "text/plain": [
       "defaultdict(list, {})"
      ]
     },
     "execution_count": 201,
     "metadata": {},
     "output_type": "execute_result"
    }
   ],
   "source": [
    "fruits"
   ]
  },
  {
   "cell_type": "code",
   "execution_count": 202,
   "id": "01d1ab5a-315a-4c2c-9e94-e447526e397b",
   "metadata": {},
   "outputs": [
    {
     "data": {
      "text/plain": [
       "defaultdict(list, {'a': ['apple']})"
      ]
     },
     "execution_count": 202,
     "metadata": {},
     "output_type": "execute_result"
    }
   ],
   "source": [
    "fruits['a'].append('apple')\n",
    "fruits"
   ]
  },
  {
   "cell_type": "code",
   "execution_count": 203,
   "id": "46021234-0cc8-468c-b20f-d5e97670902b",
   "metadata": {},
   "outputs": [
    {
     "data": {
      "text/plain": [
       "defaultdict(list, {'a': ['apple', 'avocado']})"
      ]
     },
     "execution_count": 203,
     "metadata": {},
     "output_type": "execute_result"
    }
   ],
   "source": [
    "fruits['a'].append('avocado')\n",
    "fruits"
   ]
  },
  {
   "cell_type": "code",
   "execution_count": 205,
   "id": "09b4e269-a1d3-4152-8557-3614eff92585",
   "metadata": {},
   "outputs": [
    {
     "data": {
      "text/plain": [
       "{'a': 'aa', 'b': 'bear', 'c': 'cat', 'd': 'dog'}"
      ]
     },
     "execution_count": 205,
     "metadata": {},
     "output_type": "execute_result"
    }
   ],
   "source": [
    "# () is an item\n",
    "animalList = [('a', 'aa'), ('b', 'bear'), ('c', 'cat'), ('d', 'dog')]\n",
    "animals = {item[0]: item[1] for item in animalList}\n",
    "animals"
   ]
  },
  {
   "cell_type": "code",
   "execution_count": 206,
   "id": "de857f53-85b5-4d68-b1e1-86a2172ad40d",
   "metadata": {},
   "outputs": [
    {
     "data": {
      "text/plain": [
       "{'a': 'aa', 'b': 'bear', 'c': 'cat', 'd': 'dog'}"
      ]
     },
     "execution_count": 206,
     "metadata": {},
     "output_type": "execute_result"
    }
   ],
   "source": [
    "animals = {key: value for key, value in animalList}\n",
    "animals"
   ]
  },
  {
   "cell_type": "code",
   "execution_count": 207,
   "id": "911b4a7d-f793-4e6b-8c9c-5839027e7beb",
   "metadata": {},
   "outputs": [
    {
     "data": {
      "text/plain": [
       "dict_items([('a', 'aa'), ('b', 'bear'), ('c', 'cat'), ('d', 'dog')])"
      ]
     },
     "execution_count": 207,
     "metadata": {},
     "output_type": "execute_result"
    }
   ],
   "source": [
    "animals.items()"
   ]
  },
  {
   "cell_type": "code",
   "execution_count": 208,
   "id": "fb70f006-28c5-4497-8c5c-f3f330ef5519",
   "metadata": {},
   "outputs": [
    {
     "data": {
      "text/plain": [
       "[('a', 'aa'), ('b', 'bear'), ('c', 'cat'), ('d', 'dog')]"
      ]
     },
     "execution_count": 208,
     "metadata": {},
     "output_type": "execute_result"
    }
   ],
   "source": [
    "list(animals.items())"
   ]
  },
  {
   "cell_type": "code",
   "execution_count": 211,
   "id": "8efd2fa3-88d1-41b0-87b6-1fbca005a4f9",
   "metadata": {},
   "outputs": [
    {
     "data": {
      "text/plain": [
       "[{'key': 'a', 'value': 'aa'},\n",
       " {'key': 'b', 'value': 'bear'},\n",
       " {'key': 'c', 'value': 'cat'},\n",
       " {'key': 'd', 'value': 'dog'}]"
      ]
     },
     "execution_count": 211,
     "metadata": {},
     "output_type": "execute_result"
    }
   ],
   "source": [
    "[{'key': key, 'value': value} for key, value in animals.items()]"
   ]
  },
  {
   "cell_type": "code",
   "execution_count": null,
   "id": "a3b5c9e4-53c9-4647-9c90-1976227b9260",
   "metadata": {},
   "outputs": [],
   "source": []
  }
 ],
 "metadata": {
  "kernelspec": {
   "display_name": "Python 3 (ipykernel)",
   "language": "python",
   "name": "python3"
  },
  "language_info": {
   "codemirror_mode": {
    "name": "ipython",
    "version": 3
   },
   "file_extension": ".py",
   "mimetype": "text/x-python",
   "name": "python",
   "nbconvert_exporter": "python",
   "pygments_lexer": "ipython3",
   "version": "3.10.6"
  }
 },
 "nbformat": 4,
 "nbformat_minor": 5
}
