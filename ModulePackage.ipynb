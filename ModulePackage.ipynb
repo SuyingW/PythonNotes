{
 "cells": [
  {
   "cell_type": "markdown",
   "id": "122b00a4-bb2e-419a-85c8-5fce3a6af62c",
   "metadata": {},
   "source": [
    "A Python module is a file with some functions defined\n",
    "\n",
    "similar to a library, but we can write Python modules by ourselves\n",
    "\n",
    "We can import the modules we write and get access to functions in it"
   ]
  },
  {
   "cell_type": "code",
   "execution_count": null,
   "id": "fed0f95c-802a-4567-b9cc-b17301e4ea32",
   "metadata": {},
   "outputs": [],
   "source": []
  }
 ],
 "metadata": {
  "kernelspec": {
   "display_name": "Python 3 (ipykernel)",
   "language": "python",
   "name": "python3"
  },
  "language_info": {
   "codemirror_mode": {
    "name": "ipython",
    "version": 3
   },
   "file_extension": ".py",
   "mimetype": "text/x-python",
   "name": "python",
   "nbconvert_exporter": "python",
   "pygments_lexer": "ipython3",
   "version": "3.10.6"
  }
 },
 "nbformat": 4,
 "nbformat_minor": 5
}
