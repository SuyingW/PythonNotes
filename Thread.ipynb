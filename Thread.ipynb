{
 "cells": [
  {
   "cell_type": "code",
   "execution_count": 21,
   "id": "8eb8f2fe-fa11-4521-8719-077350a4484a",
   "metadata": {},
   "outputs": [],
   "source": [
    "import threading\n",
    "import time"
   ]
  },
  {
   "cell_type": "markdown",
   "id": "b22342c9-dc38-4f14-a4ee-b26c0d72c066",
   "metadata": {},
   "source": [
    "### Threads"
   ]
  },
  {
   "cell_type": "code",
   "execution_count": 2,
   "id": "ab3860c0-51db-4b2e-970f-ebff91f0db93",
   "metadata": {},
   "outputs": [
    {
     "data": {
      "text/plain": [
       "[0, 1, 4, 9, 16]"
      ]
     },
     "execution_count": 2,
     "metadata": {},
     "output_type": "execute_result"
    }
   ],
   "source": [
    "# Emulates parallel computing\n",
    "def longSquare(num):\n",
    "    time.sleep(1)\n",
    "    return num**2\n",
    "\n",
    "[longSquare(n) for n in range(0,5)]"
   ]
  },
  {
   "cell_type": "code",
   "execution_count": 4,
   "id": "a77f8a0c-6d6e-43e3-a19a-e230766131e9",
   "metadata": {},
   "outputs": [],
   "source": [
    "t1 = threading.Thread(target=longSquare, args=(1,))\n",
    "t2 = threading.Thread(target=longSquare, args=(2,))\n",
    "\n",
    "t1.start()\n",
    "t2.start()\n",
    "\n",
    "t1.join()\n",
    "t2.join()"
   ]
  },
  {
   "cell_type": "code",
   "execution_count": 7,
   "id": "42919f91-56dc-4774-b9ee-4b614e2121b5",
   "metadata": {},
   "outputs": [
    {
     "name": "stdout",
     "output_type": "stream",
     "text": [
      "{1: 1, 2: 4}\n"
     ]
    }
   ],
   "source": [
    "def longSquare(num, results):\n",
    "    time.sleep(1)\n",
    "    results[num] = num**2\n",
    "\n",
    "results = {}\n",
    "\n",
    "t1 = threading.Thread(target=longSquare, args=(1,results))\n",
    "t2 = threading.Thread(target=longSquare, args=(2,results))\n",
    "\n",
    "t1.start()\n",
    "t2.start()\n",
    "\n",
    "t1.join()\n",
    "t2.join()\n",
    "\n",
    "print(results)"
   ]
  },
  {
   "cell_type": "code",
   "execution_count": 9,
   "id": "0326459f-92f2-464b-942d-c13162df2d7c",
   "metadata": {},
   "outputs": [
    {
     "name": "stdout",
     "output_type": "stream",
     "text": [
      "{0: 0, 1: 1, 2: 4, 3: 9, 6: 36, 4: 16, 5: 25, 7: 49, 8: 64, 9: 81, 10: 100, 12: 144, 11: 121, 14: 196, 13: 169, 15: 225, 20: 400, 19: 361, 16: 256, 18: 324, 17: 289, 21: 441, 25: 625, 24: 576, 23: 529, 22: 484, 26: 676, 29: 841, 27: 729, 30: 900, 28: 784, 31: 961, 34: 1156, 32: 1024, 35: 1225, 33: 1089, 36: 1296, 41: 1681, 40: 1600, 38: 1444, 39: 1521, 37: 1369, 42: 1764, 47: 2209, 46: 2116, 44: 1936, 45: 2025, 43: 1849, 48: 2304, 51: 2601, 53: 2809, 50: 2500, 52: 2704, 49: 2401, 54: 2916, 55: 3025, 56: 3136, 57: 3249, 58: 3364, 60: 3600, 62: 3844, 61: 3721, 59: 3481, 63: 3969, 64: 4096, 68: 4624, 65: 4225, 67: 4489, 66: 4356, 69: 4761, 73: 5329, 72: 5184, 71: 5041, 70: 4900, 79: 6241, 74: 5476, 78: 6084, 76: 5776, 75: 5625, 77: 5929, 80: 6400, 81: 6561, 82: 6724, 83: 6889, 84: 7056, 85: 7225, 89: 7921, 86: 7396, 88: 7744, 87: 7569, 90: 8100, 93: 8649, 91: 8281, 92: 8464, 94: 8836, 95: 9025, 98: 9604, 96: 9216, 97: 9409, 99: 9801}\n"
     ]
    }
   ],
   "source": [
    "def longSquare(num, results):\n",
    "    time.sleep(1)\n",
    "    results[num] = num**2\n",
    "\n",
    "results = {}\n",
    "threads = [threading.Thread(target=longSquare, args=(n, results)) for n in range(0, 100)]\n",
    "[t.start() for t in threads]\n",
    "[t.join() for t in threads]\n",
    "print(results)"
   ]
  },
  {
   "cell_type": "markdown",
   "id": "c1573ffb-1ebe-4235-a44e-666afed0a14e",
   "metadata": {},
   "source": [
    "### Processes"
   ]
  },
  {
   "cell_type": "code",
   "execution_count": 13,
   "id": "57cd263f-2bb3-425c-974e-f023628ad45c",
   "metadata": {},
   "outputs": [
    {
     "name": "stdout",
     "output_type": "stream",
     "text": [
      "Collecting multiprocess\n",
      "  Downloading multiprocess-0.70.14-py310-none-any.whl (134 kB)\n",
      "\u001b[2K     \u001b[90m━━━━━━━━━━━━━━━━━━━━━━━━━━━━━━━━━━━━━━━\u001b[0m \u001b[32m134.3/134.3 kB\u001b[0m \u001b[31m2.9 MB/s\u001b[0m eta \u001b[36m0:00:00\u001b[0m00:01\u001b[0m\n",
      "\u001b[?25hCollecting dill>=0.3.6\n",
      "  Downloading dill-0.3.6-py3-none-any.whl (110 kB)\n",
      "\u001b[2K     \u001b[90m━━━━━━━━━━━━━━━━━━━━━━━━━━━━━━━━━━━━━━━\u001b[0m \u001b[32m110.5/110.5 kB\u001b[0m \u001b[31m5.0 MB/s\u001b[0m eta \u001b[36m0:00:00\u001b[0m\n",
      "\u001b[?25hInstalling collected packages: dill, multiprocess\n",
      "  Attempting uninstall: dill\n",
      "    Found existing installation: dill 0.3.5.1\n",
      "    Uninstalling dill-0.3.5.1:\n",
      "      Successfully uninstalled dill-0.3.5.1\n",
      "Successfully installed dill-0.3.6 multiprocess-0.70.14\n"
     ]
    }
   ],
   "source": [
    "!pip install multiprocess"
   ]
  },
  {
   "cell_type": "code",
   "execution_count": 16,
   "id": "5283de24-f50b-426c-9d5c-38819044a76f",
   "metadata": {},
   "outputs": [],
   "source": [
    "from multiprocessing import Process"
   ]
  },
  {
   "cell_type": "code",
   "execution_count": 18,
   "id": "a06adb93-10b2-4e5b-8e83-1f03f3676155",
   "metadata": {},
   "outputs": [
    {
     "name": "stdout",
     "output_type": "stream",
     "text": [
      "1\n",
      "Finished computing\n",
      "4\n",
      "Finished computing\n",
      "{}\n"
     ]
    }
   ],
   "source": [
    "def longSquare(num, results):\n",
    "    time.sleep(1)\n",
    "    print(num**2)\n",
    "    print('Finished computing')\n",
    "\n",
    "results = {}\n",
    "\n",
    "p1 = Process(target=longSquare, args=(1,results))\n",
    "p2 = Process(target=longSquare, args=(2,results))\n",
    "\n",
    "p1.start()\n",
    "p2.start()\n",
    "\n",
    "p1.join()\n",
    "p2.join()\n",
    "\n",
    "print(results)"
   ]
  },
  {
   "cell_type": "code",
   "execution_count": 20,
   "id": "7db203cd-5236-4f1a-8248-f7bf5be6527e",
   "metadata": {},
   "outputs": [
    {
     "name": "stdout",
     "output_type": "stream",
     "text": [
      "0\n",
      "Finished computing\n",
      "1\n",
      "Finished computing\n",
      "4\n",
      "Finished computing\n",
      "9\n",
      "Finished computing16\n",
      "\n",
      "Finished computing\n",
      "25\n",
      "Finished computing\n",
      "36\n",
      "Finished computing\n",
      "496481\n",
      "\n",
      "\n",
      "Finished computingFinished computingFinished computing\n",
      "\n",
      "\n",
      "{}\n"
     ]
    }
   ],
   "source": [
    "def longSquare(num, results):\n",
    "    time.sleep(1)\n",
    "    print(num**2)\n",
    "    print('Finished computing')\n",
    "\n",
    "results = {}\n",
    "\n",
    "processes = [Process(target=longSquare, args=(n,results)) for n in range(0, 10)]\n",
    "[p.start() for p in processes]\n",
    "[p.join() for p in processes]\n",
    "\n",
    "print(results)"
   ]
  },
  {
   "cell_type": "code",
   "execution_count": 23,
   "id": "d9ed58a5-1eb9-4477-8829-18b8d03515cc",
   "metadata": {},
   "outputs": [
    {
     "name": "stdout",
     "output_type": "stream",
     "text": [
      "0\n",
      "Finished computing\n",
      "1\n",
      "Finished computing\n",
      "4\n",
      "Finished computing\n",
      "9\n",
      "Finished computing\n",
      "16\n",
      "Finished computing\n",
      "25\n",
      "Finished computing\n",
      "36\n",
      "Finished computing\n",
      "49\n",
      "Finished computing\n",
      "81\n",
      "Finished computing\n",
      "64\n",
      "Finished computing\n",
      "{}\n"
     ]
    }
   ],
   "source": [
    "results = {}\n",
    "threads = [threading.Thread(target=longSquare, args=(n, results)) for n in range(0, 10)]\n",
    "[t.start() for t in threads]\n",
    "[t.join() for t in threads]\n",
    "print(results)"
   ]
  },
  {
   "cell_type": "code",
   "execution_count": null,
   "id": "44a92a19-e730-4130-ab99-3591ebffccfd",
   "metadata": {},
   "outputs": [],
   "source": []
  }
 ],
 "metadata": {
  "kernelspec": {
   "display_name": "Python 3 (ipykernel)",
   "language": "python",
   "name": "python3"
  },
  "language_info": {
   "codemirror_mode": {
    "name": "ipython",
    "version": 3
   },
   "file_extension": ".py",
   "mimetype": "text/x-python",
   "name": "python",
   "nbconvert_exporter": "python",
   "pygments_lexer": "ipython3",
   "version": "3.10.6"
  }
 },
 "nbformat": 4,
 "nbformat_minor": 5
}
