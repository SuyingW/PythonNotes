{
 "cells": [
  {
   "cell_type": "code",
   "execution_count": 1,
   "id": "4bd40bc1-17f8-4b7d-a7fa-44526d00b020",
   "metadata": {},
   "outputs": [],
   "source": [
    "name = 'My name is Su'"
   ]
  },
  {
   "cell_type": "code",
   "execution_count": 2,
   "id": "a22e27f4-1d41-46d0-8c0d-6614e97b8fca",
   "metadata": {},
   "outputs": [
    {
     "data": {
      "text/plain": [
       "'M'"
      ]
     },
     "execution_count": 2,
     "metadata": {},
     "output_type": "execute_result"
    }
   ],
   "source": [
    "name[0]"
   ]
  },
  {
   "cell_type": "code",
   "execution_count": 3,
   "id": "dbb648df-e952-47ef-ab02-dd032800a6cd",
   "metadata": {},
   "outputs": [
    {
     "data": {
      "text/plain": [
       "'y'"
      ]
     },
     "execution_count": 3,
     "metadata": {},
     "output_type": "execute_result"
    }
   ],
   "source": [
    "name[1]"
   ]
  },
  {
   "cell_type": "code",
   "execution_count": 4,
   "id": "f8f49e89-3f9d-486d-aa3f-424d6c235518",
   "metadata": {},
   "outputs": [
    {
     "data": {
      "text/plain": [
       "'My name'"
      ]
     },
     "execution_count": 4,
     "metadata": {},
     "output_type": "execute_result"
    }
   ],
   "source": [
    "name[0:7]"
   ]
  },
  {
   "cell_type": "code",
   "execution_count": 5,
   "id": "553de932-4c6f-47e3-b0d5-c62d5375e503",
   "metadata": {},
   "outputs": [
    {
     "data": {
      "text/plain": [
       "'Su'"
      ]
     },
     "execution_count": 5,
     "metadata": {},
     "output_type": "execute_result"
    }
   ],
   "source": [
    "name[11:]"
   ]
  },
  {
   "cell_type": "code",
   "execution_count": 6,
   "id": "0525522d-b652-4401-a1a8-2c13f05b4406",
   "metadata": {},
   "outputs": [],
   "source": [
    "list = [1,2,3,4]"
   ]
  },
  {
   "cell_type": "code",
   "execution_count": 7,
   "id": "e0dc758b-9dd4-4c0c-86e5-95caf84b2b69",
   "metadata": {},
   "outputs": [
    {
     "data": {
      "text/plain": [
       "[3, 4]"
      ]
     },
     "execution_count": 7,
     "metadata": {},
     "output_type": "execute_result"
    }
   ],
   "source": [
    "list[2:4]"
   ]
  },
  {
   "cell_type": "code",
   "execution_count": 8,
   "id": "d2fd2d56-6fcf-4533-b026-c2412872ae24",
   "metadata": {},
   "outputs": [
    {
     "data": {
      "text/plain": [
       "4"
      ]
     },
     "execution_count": 8,
     "metadata": {},
     "output_type": "execute_result"
    }
   ],
   "source": [
    "len(list)"
   ]
  },
  {
   "cell_type": "code",
   "execution_count": 9,
   "id": "2ccf9eca-bcc3-41f9-a8c2-e256bff74813",
   "metadata": {},
   "outputs": [
    {
     "data": {
      "text/plain": [
       "'My age is: 20'"
      ]
     },
     "execution_count": 9,
     "metadata": {},
     "output_type": "execute_result"
    }
   ],
   "source": [
    "'My age is: '+str(20)"
   ]
  },
  {
   "cell_type": "code",
   "execution_count": 10,
   "id": "88c75da6-a767-4e8c-8281-728efb5a5e67",
   "metadata": {},
   "outputs": [
    {
     "data": {
      "text/plain": [
       "'My age is: 20'"
      ]
     },
     "execution_count": 10,
     "metadata": {},
     "output_type": "execute_result"
    }
   ],
   "source": [
    "f'My age is: {20}'"
   ]
  },
  {
   "cell_type": "code",
   "execution_count": 11,
   "id": "b2e841e8-63d1-4253-bd6d-a6b6a6353649",
   "metadata": {},
   "outputs": [
    {
     "data": {
      "text/plain": [
       "'My age is 20 and last year I was 19'"
      ]
     },
     "execution_count": 11,
     "metadata": {},
     "output_type": "execute_result"
    }
   ],
   "source": [
    "f'My age is {20} and last year I was {20-1}'"
   ]
  },
  {
   "cell_type": "code",
   "execution_count": 12,
   "id": "ca94c5f1-7875-44b5-bde9-c17c47dcfc34",
   "metadata": {},
   "outputs": [],
   "source": [
    "import math"
   ]
  },
  {
   "cell_type": "code",
   "execution_count": 14,
   "id": "a12ef315-200f-40ff-843f-de31bcf54cc9",
   "metadata": {},
   "outputs": [
    {
     "data": {
      "text/plain": [
       "'Pi is 3.14'"
      ]
     },
     "execution_count": 14,
     "metadata": {},
     "output_type": "execute_result"
    }
   ],
   "source": [
    "f'Pi is {math.pi:.2f}'"
   ]
  },
  {
   "cell_type": "code",
   "execution_count": 15,
   "id": "24a3b2c3-3f99-4166-992a-e86d2b0452d1",
   "metadata": {},
   "outputs": [],
   "source": [
    "string = '''\n",
    "Here is a block\n",
    "add new lines:\n",
    "third line\n",
    "'''"
   ]
  },
  {
   "cell_type": "code",
   "execution_count": 16,
   "id": "11b4499e-7fe7-4088-a6d1-68e4027378d2",
   "metadata": {},
   "outputs": [
    {
     "data": {
      "text/plain": [
       "'\\nHere is a block\\nadd new lines:\\nthird line\\n'"
      ]
     },
     "execution_count": 16,
     "metadata": {},
     "output_type": "execute_result"
    }
   ],
   "source": [
    "string"
   ]
  },
  {
   "cell_type": "code",
   "execution_count": 17,
   "id": "fae3bb34-1cd7-406b-9a0c-e37e7ebfedae",
   "metadata": {},
   "outputs": [
    {
     "name": "stdout",
     "output_type": "stream",
     "text": [
      "\n",
      "Here is a block\n",
      "add new lines:\n",
      "third line\n",
      "\n"
     ]
    }
   ],
   "source": [
    "print(string)"
   ]
  },
  {
   "cell_type": "code",
   "execution_count": null,
   "id": "c129b540-a877-422f-8a07-e0a34808d74e",
   "metadata": {},
   "outputs": [],
   "source": []
  }
 ],
 "metadata": {
  "kernelspec": {
   "display_name": "Python 3 (ipykernel)",
   "language": "python",
   "name": "python3"
  },
  "language_info": {
   "codemirror_mode": {
    "name": "ipython",
    "version": 3
   },
   "file_extension": ".py",
   "mimetype": "text/x-python",
   "name": "python",
   "nbconvert_exporter": "python",
   "pygments_lexer": "ipython3",
   "version": "3.10.6"
  }
 },
 "nbformat": 4,
 "nbformat_minor": 5
}
