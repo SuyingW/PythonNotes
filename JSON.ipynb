{
 "cells": [
  {
   "cell_type": "markdown",
   "id": "26da3ebd-63ca-474c-bfe5-7eca8dbed10c",
   "metadata": {},
   "source": [
    "### JSON"
   ]
  },
  {
   "cell_type": "code",
   "execution_count": 2,
   "id": "4183c0f2-ba43-4487-9fb6-8da743f011e7",
   "metadata": {},
   "outputs": [],
   "source": [
    "import json"
   ]
  },
  {
   "cell_type": "markdown",
   "id": "e8117be3-4432-4bf7-bc6c-38578033082e",
   "metadata": {},
   "source": [
    "#### Loading JSON"
   ]
  },
  {
   "cell_type": "code",
   "execution_count": 3,
   "id": "7633403f-aba0-400c-b349-d3582de155ce",
   "metadata": {},
   "outputs": [
    {
     "data": {
      "text/plain": [
       "{'a': 'apple', 'b': 'bear', 'c': 'cat'}"
      ]
     },
     "execution_count": 3,
     "metadata": {},
     "output_type": "execute_result"
    }
   ],
   "source": [
    "jsonString = '{\"a\": \"apple\", \"b\": \"bear\", \"c\": \"cat\"}'\n",
    "json.loads(jsonString)"
   ]
  },
  {
   "cell_type": "code",
   "execution_count": 4,
   "id": "19aaed70-21c0-4a60-a324-deb444015f72",
   "metadata": {},
   "outputs": [
    {
     "data": {
      "text/plain": [
       "{'a': 'apple', 'b': 'bear', 'c': 'cat'}"
      ]
     },
     "execution_count": 4,
     "metadata": {},
     "output_type": "execute_result"
    }
   ],
   "source": [
    "{'a': 'apple', 'b': 'bear', 'c': 'cat',}"
   ]
  },
  {
   "cell_type": "markdown",
   "id": "018a3214-bee3-4e06-9f45-b65ce61f1052",
   "metadata": {},
   "source": [
    "#### Dumping JSON"
   ]
  },
  {
   "cell_type": "code",
   "execution_count": null,
   "id": "c92a39a5-1319-4022-95b8-3978118129a0",
   "metadata": {},
   "outputs": [],
   "source": []
  },
  {
   "cell_type": "markdown",
   "id": "eae7df98-c4df-4648-8208-8ee52b66608e",
   "metadata": {},
   "source": [
    "#### Custom JSON Decoders"
   ]
  },
  {
   "cell_type": "code",
   "execution_count": null,
   "id": "f3d040d0-9bf0-45ce-8200-a86bf9b838e6",
   "metadata": {},
   "outputs": [],
   "source": []
  }
 ],
 "metadata": {
  "kernelspec": {
   "display_name": "Python 3 (ipykernel)",
   "language": "python",
   "name": "python3"
  },
  "language_info": {
   "codemirror_mode": {
    "name": "ipython",
    "version": 3
   },
   "file_extension": ".py",
   "mimetype": "text/x-python",
   "name": "python",
   "nbconvert_exporter": "python",
   "pygments_lexer": "ipython3",
   "version": "3.10.6"
  }
 },
 "nbformat": 4,
 "nbformat_minor": 5
}
