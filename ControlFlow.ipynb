{
 "cells": [
  {
   "cell_type": "markdown",
   "id": "18b6a635-3d38-4e90-ab4a-4b0bcc982bc8",
   "metadata": {},
   "source": [
    "#### If / Else statement"
   ]
  },
  {
   "cell_type": "code",
   "execution_count": 3,
   "id": "9c16418b-e5a5-4d4c-a8dc-749a797b36b0",
   "metadata": {},
   "outputs": [
    {
     "name": "stdout",
     "output_type": "stream",
     "text": [
      "it is true\n",
      "also print this line\n",
      "always print this\n"
     ]
    }
   ],
   "source": [
    "a = True\n",
    "if a:\n",
    "    print('it is true')\n",
    "    print('also print this line')\n",
    "else:\n",
    "    print('this is false')\n",
    "print('always print this')"
   ]
  },
  {
   "cell_type": "code",
   "execution_count": 8,
   "id": "235f5646-21ff-49d7-9a0e-fe412e10e95b",
   "metadata": {},
   "outputs": [
    {
     "name": "stdout",
     "output_type": "stream",
     "text": [
      "it is true\n",
      "also print this\n",
      "b is true\n",
      "Always print this\n"
     ]
    }
   ],
   "source": [
    "a = True\n",
    "b = True\n",
    "c = False\n",
    "if a:\n",
    "    print('it is true')\n",
    "    print('also print this')\n",
    "    if b:\n",
    "        print('b is true')\n",
    "        if c:\n",
    "            print('c is true')\n",
    "else:\n",
    "    print('It is false')\n",
    "print('Always print this')"
   ]
  },
  {
   "cell_type": "code",
   "execution_count": 2,
   "id": "95c95ba2-182e-476f-88d3-7d3cc580d668",
   "metadata": {},
   "outputs": [
    {
     "name": "stdout",
     "output_type": "stream",
     "text": [
      "1\n",
      "2\n",
      "It is even!\n",
      "Fizz\n",
      "4\n",
      "It is even!\n",
      "Buzz\n",
      "Fizz\n",
      "It is even!\n",
      "7\n",
      "8\n",
      "It is even!\n",
      "Fizz\n",
      "Buzz\n",
      "It is even!\n",
      "11\n",
      "Fizz\n",
      "It is even!\n",
      "13\n",
      "14\n",
      "It is even!\n",
      "FizzBuzz\n",
      "16\n",
      "It is even!\n",
      "17\n",
      "Fizz\n",
      "It is even!\n",
      "19\n",
      "Buzz\n",
      "It is even!\n",
      "Fizz\n",
      "22\n",
      "It is even!\n",
      "23\n",
      "Fizz\n",
      "It is even!\n",
      "Buzz\n",
      "26\n",
      "It is even!\n",
      "Fizz\n",
      "28\n",
      "It is even!\n",
      "29\n",
      "FizzBuzz\n",
      "It is even!\n",
      "31\n",
      "32\n",
      "It is even!\n",
      "Fizz\n",
      "34\n",
      "It is even!\n",
      "Buzz\n",
      "Fizz\n",
      "It is even!\n",
      "37\n",
      "38\n",
      "It is even!\n",
      "Fizz\n",
      "Buzz\n",
      "It is even!\n",
      "41\n",
      "Fizz\n",
      "It is even!\n",
      "43\n",
      "44\n",
      "It is even!\n",
      "FizzBuzz\n",
      "46\n",
      "It is even!\n",
      "47\n",
      "Fizz\n",
      "It is even!\n",
      "49\n",
      "Buzz\n",
      "It is even!\n",
      "Fizz\n",
      "52\n",
      "It is even!\n",
      "53\n",
      "Fizz\n",
      "It is even!\n",
      "Buzz\n",
      "56\n",
      "It is even!\n",
      "Fizz\n",
      "58\n",
      "It is even!\n",
      "59\n",
      "FizzBuzz\n",
      "It is even!\n",
      "61\n",
      "62\n",
      "It is even!\n",
      "Fizz\n",
      "64\n",
      "It is even!\n",
      "Buzz\n",
      "Fizz\n",
      "It is even!\n",
      "67\n",
      "68\n",
      "It is even!\n",
      "Fizz\n",
      "Buzz\n",
      "It is even!\n",
      "71\n",
      "Fizz\n",
      "It is even!\n",
      "73\n",
      "74\n",
      "It is even!\n",
      "FizzBuzz\n",
      "76\n",
      "It is even!\n",
      "77\n",
      "Fizz\n",
      "It is even!\n",
      "79\n",
      "Buzz\n",
      "It is even!\n",
      "Fizz\n",
      "82\n",
      "It is even!\n",
      "83\n",
      "Fizz\n",
      "It is even!\n",
      "Buzz\n",
      "86\n",
      "It is even!\n",
      "Fizz\n",
      "88\n",
      "It is even!\n",
      "89\n",
      "FizzBuzz\n",
      "It is even!\n",
      "91\n",
      "92\n",
      "It is even!\n",
      "Fizz\n",
      "94\n",
      "It is even!\n",
      "Buzz\n",
      "Fizz\n",
      "It is even!\n",
      "97\n",
      "98\n",
      "It is even!\n",
      "Fizz\n",
      "Buzz\n",
      "It is even!\n"
     ]
    }
   ],
   "source": [
    "for n in range(1, 101):\n",
    "    if n % 15 == 0:\n",
    "        print('FizzBuzz')\n",
    "    elif n % 3 == 0:\n",
    "        print('Fizz')\n",
    "    elif n % 5 == 0:\n",
    "        print('Buzz')\n",
    "    else:\n",
    "        print(n)\n",
    "        \n",
    "    if n % 2 == 0:\n",
    "        print('It is even!')"
   ]
  },
  {
   "cell_type": "code",
   "execution_count": 3,
   "id": "9aba62cb-3206-4459-869b-ec3e79ae473d",
   "metadata": {},
   "outputs": [
    {
     "name": "stdout",
     "output_type": "stream",
     "text": [
      "5\n"
     ]
    }
   ],
   "source": [
    "n = 5\n",
    "print('Fizz' if n % 3 ==0 else n)"
   ]
  },
  {
   "cell_type": "code",
   "execution_count": 4,
   "id": "29f387f9-f0f0-4e21-8e09-925e22fb7760",
   "metadata": {},
   "outputs": [],
   "source": [
    "fizzBuzz = 'Fizz' if n % 3 == 0 else n"
   ]
  },
  {
   "cell_type": "code",
   "execution_count": 5,
   "id": "4b348b37-748a-44e6-935f-5bc5f3e5632f",
   "metadata": {},
   "outputs": [
    {
     "data": {
      "text/plain": [
       "'Buzz'"
      ]
     },
     "execution_count": 5,
     "metadata": {},
     "output_type": "execute_result"
    }
   ],
   "source": [
    "'Fizz' if n % 3 == 0 else 'Buzz' if n % 5 == 0 else n"
   ]
  },
  {
   "cell_type": "code",
   "execution_count": 7,
   "id": "0e224826-2424-47f5-becc-5d3125b9ac3e",
   "metadata": {},
   "outputs": [
    {
     "data": {
      "text/plain": [
       "[1,\n",
       " 2,\n",
       " 'Fizz',\n",
       " 4,\n",
       " 'Buzz',\n",
       " 'Fizz',\n",
       " 7,\n",
       " 8,\n",
       " 'Fizz',\n",
       " 'Buzz',\n",
       " 11,\n",
       " 'Fizz',\n",
       " 13,\n",
       " 14,\n",
       " 'FizzBuzz',\n",
       " 16,\n",
       " 17,\n",
       " 'Fizz',\n",
       " 19,\n",
       " 'Buzz',\n",
       " 'Fizz',\n",
       " 22,\n",
       " 23,\n",
       " 'Fizz',\n",
       " 'Buzz',\n",
       " 26,\n",
       " 'Fizz',\n",
       " 28,\n",
       " 29,\n",
       " 'FizzBuzz',\n",
       " 31,\n",
       " 32,\n",
       " 'Fizz',\n",
       " 34,\n",
       " 'Buzz',\n",
       " 'Fizz',\n",
       " 37,\n",
       " 38,\n",
       " 'Fizz',\n",
       " 'Buzz',\n",
       " 41,\n",
       " 'Fizz',\n",
       " 43,\n",
       " 44,\n",
       " 'FizzBuzz',\n",
       " 46,\n",
       " 47,\n",
       " 'Fizz',\n",
       " 49,\n",
       " 'Buzz',\n",
       " 'Fizz',\n",
       " 52,\n",
       " 53,\n",
       " 'Fizz',\n",
       " 'Buzz',\n",
       " 56,\n",
       " 'Fizz',\n",
       " 58,\n",
       " 59,\n",
       " 'FizzBuzz',\n",
       " 61,\n",
       " 62,\n",
       " 'Fizz',\n",
       " 64,\n",
       " 'Buzz',\n",
       " 'Fizz',\n",
       " 67,\n",
       " 68,\n",
       " 'Fizz',\n",
       " 'Buzz',\n",
       " 71,\n",
       " 'Fizz',\n",
       " 73,\n",
       " 74,\n",
       " 'FizzBuzz',\n",
       " 76,\n",
       " 77,\n",
       " 'Fizz',\n",
       " 79,\n",
       " 'Buzz',\n",
       " 'Fizz',\n",
       " 82,\n",
       " 83,\n",
       " 'Fizz',\n",
       " 'Buzz',\n",
       " 86,\n",
       " 'Fizz',\n",
       " 88,\n",
       " 89,\n",
       " 'FizzBuzz',\n",
       " 91,\n",
       " 92,\n",
       " 'Fizz',\n",
       " 94,\n",
       " 'Buzz',\n",
       " 'Fizz',\n",
       " 97,\n",
       " 98,\n",
       " 'Fizz',\n",
       " 'Buzz']"
      ]
     },
     "execution_count": 7,
     "metadata": {},
     "output_type": "execute_result"
    }
   ],
   "source": [
    "['FizzBuzz' if n % 15 == 0 else 'Fizz' if n % 3 == 0\n",
    " else 'Buzz' if n % 5 == 0 else n for n in range(1, 101)]"
   ]
  },
  {
   "cell_type": "markdown",
   "id": "0fc93045-106f-4a84-8c28-c127f7064ed7",
   "metadata": {},
   "source": [
    "### For loop"
   ]
  },
  {
   "cell_type": "code",
   "execution_count": 9,
   "id": "87071f03-4d86-4850-896c-70f6f39e36c9",
   "metadata": {},
   "outputs": [
    {
     "name": "stdout",
     "output_type": "stream",
     "text": [
      "1\n",
      "2\n",
      "3\n",
      "4\n"
     ]
    }
   ],
   "source": [
    "a = [1,2,3,4]\n",
    "for i in a:\n",
    "    print(i)"
   ]
  },
  {
   "cell_type": "code",
   "execution_count": 34,
   "id": "87fa31bf-86ab-4254-bb91-db8d5ea5d1de",
   "metadata": {},
   "outputs": [],
   "source": [
    "animalLookup = {\n",
    "    'a' : ['aa', 'antelope'],\n",
    "    'b' : ['bear'],\n",
    "    'c' : ['cat'],\n",
    "    'd' : ['dog'],\n",
    "}\n",
    "for letter, animals in animalLookup.items():\n",
    "    pass"
   ]
  },
  {
   "cell_type": "code",
   "execution_count": 37,
   "id": "83061c44-c843-43ea-bac2-8f4d219595a0",
   "metadata": {},
   "outputs": [
    {
     "name": "stdout",
     "output_type": "stream",
     "text": [
      "Only one animal: bear\n",
      "Only one animal: cat\n",
      "Only one animal: dog\n"
     ]
    }
   ],
   "source": [
    "for letter, animals in animalLookup.items():\n",
    "    if len(animals) > 1:\n",
    "        continue\n",
    "    print(f'Only one animal: {animals[0]}')"
   ]
  },
  {
   "cell_type": "code",
   "execution_count": 40,
   "id": "64257768-3e75-445a-8396-1f0b0bbfa0aa",
   "metadata": {},
   "outputs": [
    {
     "name": "stdout",
     "output_type": "stream",
     "text": [
      "Found 2: ['aa', 'antelope']\n"
     ]
    }
   ],
   "source": [
    "for letter, animals in animalLookup.items():\n",
    "    if len(animals) > 1:\n",
    "        print(f'Found {len(animals)}: {animals}')\n",
    "        break\n",
    "    "
   ]
  },
  {
   "cell_type": "code",
   "execution_count": 42,
   "id": "4be2648b-7631-47d8-90ce-7ae2a06402d5",
   "metadata": {},
   "outputs": [
    {
     "name": "stdout",
     "output_type": "stream",
     "text": [
      "2 is prime!\n",
      "3 is prime!\n",
      "4 is prime!\n",
      "5 is prime!\n",
      "6 is prime!\n",
      "7 is prime!\n",
      "8 is prime!\n",
      "9 is prime!\n",
      "11 is prime!\n",
      "13 is prime!\n",
      "15 is prime!\n",
      "17 is prime!\n",
      "19 is prime!\n",
      "23 is prime!\n",
      "25 is prime!\n",
      "29 is prime!\n",
      "31 is prime!\n",
      "35 is prime!\n",
      "37 is prime!\n",
      "41 is prime!\n",
      "43 is prime!\n",
      "47 is prime!\n",
      "49 is prime!\n",
      "53 is prime!\n",
      "59 is prime!\n",
      "61 is prime!\n",
      "67 is prime!\n",
      "71 is prime!\n",
      "73 is prime!\n",
      "79 is prime!\n",
      "83 is prime!\n",
      "89 is prime!\n",
      "97 is prime!\n"
     ]
    }
   ],
   "source": [
    "for number in range(2, 100):\n",
    "    found_factors = False\n",
    "    for factor in range(2, int(number**0.5)):\n",
    "        if number % factor == 0:\n",
    "            found_factors = True\n",
    "            break\n",
    "    if not found_factors:\n",
    "        print(f'{number} is prime!')"
   ]
  },
  {
   "cell_type": "code",
   "execution_count": null,
   "id": "12de858c-0ec4-477c-8032-f32a1eb90e24",
   "metadata": {},
   "outputs": [],
   "source": []
  },
  {
   "cell_type": "markdown",
   "id": "5dd42dce-6ae0-45bf-b097-64c638289ab7",
   "metadata": {},
   "source": [
    "### While loop"
   ]
  },
  {
   "cell_type": "code",
   "execution_count": 12,
   "id": "1b8c8c3b-32a0-4bc0-b649-f333884eb4ee",
   "metadata": {},
   "outputs": [
    {
     "name": "stdout",
     "output_type": "stream",
     "text": [
      "0\n",
      "1\n",
      "2\n",
      "3\n",
      "4\n",
      "5\n"
     ]
    }
   ],
   "source": [
    "a = 0\n",
    "while a <= 5:\n",
    "    print(a)\n",
    "    a = a+1    "
   ]
  },
  {
   "cell_type": "code",
   "execution_count": 8,
   "id": "f16a0acd-b5e5-46ed-aeac-3dead6fa740a",
   "metadata": {},
   "outputs": [],
   "source": [
    "from datetime import datetime"
   ]
  },
  {
   "cell_type": "code",
   "execution_count": 13,
   "id": "d02dad8c-375f-4ca2-ba6f-e9b5c4707913",
   "metadata": {},
   "outputs": [
    {
     "data": {
      "text/plain": [
       "datetime.datetime(2022, 12, 30, 5, 9, 39, 683329)"
      ]
     },
     "execution_count": 13,
     "metadata": {},
     "output_type": "execute_result"
    }
   ],
   "source": [
    "datetime.now()"
   ]
  },
  {
   "cell_type": "code",
   "execution_count": 14,
   "id": "d3be2e21-f331-4991-840f-c63bfa989d6e",
   "metadata": {},
   "outputs": [
    {
     "data": {
      "text/plain": [
       "9"
      ]
     },
     "execution_count": 14,
     "metadata": {},
     "output_type": "execute_result"
    }
   ],
   "source": [
    "datetime.now().minute"
   ]
  },
  {
   "cell_type": "code",
   "execution_count": 16,
   "id": "4a134099-3781-4d40-83f2-c41628666cd5",
   "metadata": {},
   "outputs": [],
   "source": [
    "# wait_until = datetime.now().second + 2\n",
    "\n",
    "# while datetime.now().second != wait_until:\n",
    "#     print('Still waiting!')\n",
    "    \n",
    "# print(f'We are at {wait_until} seconds:')\n",
    "# outputs infinite lines"
   ]
  },
  {
   "cell_type": "code",
   "execution_count": 17,
   "id": "fd3db1fe-7cb3-441c-8090-2fd3fb8379ec",
   "metadata": {},
   "outputs": [
    {
     "name": "stdout",
     "output_type": "stream",
     "text": [
      "We are at 49 seconds!\n"
     ]
    }
   ],
   "source": [
    "wait_until = datetime.now().second + 2\n",
    "\n",
    "while datetime.now().second != wait_until:\n",
    "    1+1\n",
    "print(f'We are at {wait_until} seconds!')"
   ]
  },
  {
   "cell_type": "code",
   "execution_count": 1,
   "id": "ae629b43-7ff6-4427-a790-2f3e6a020be5",
   "metadata": {},
   "outputs": [
    {
     "ename": "NameError",
     "evalue": "name 'datetime' is not defined",
     "output_type": "error",
     "traceback": [
      "\u001b[0;31m---------------------------------------------------------------------------\u001b[0m",
      "\u001b[0;31mNameError\u001b[0m                                 Traceback (most recent call last)",
      "Input \u001b[0;32mIn [1]\u001b[0m, in \u001b[0;36m<cell line: 3>\u001b[0;34m()\u001b[0m\n\u001b[1;32m      1\u001b[0m \u001b[38;5;66;03m# pass: placeholder for unimplemented functions\u001b[39;00m\n\u001b[0;32m----> 3\u001b[0m wait_until \u001b[38;5;241m=\u001b[39m \u001b[43mdatetime\u001b[49m\u001b[38;5;241m.\u001b[39mnow()\u001b[38;5;241m.\u001b[39msecond \u001b[38;5;241m+\u001b[39m \u001b[38;5;241m2\u001b[39m\n\u001b[1;32m      5\u001b[0m \u001b[38;5;28;01mwhile\u001b[39;00m datetime\u001b[38;5;241m.\u001b[39mnow()\u001b[38;5;241m.\u001b[39msecond \u001b[38;5;241m!=\u001b[39m wait_until:\n\u001b[1;32m      6\u001b[0m     \u001b[38;5;28;01mpass\u001b[39;00m\n",
      "\u001b[0;31mNameError\u001b[0m: name 'datetime' is not defined"
     ]
    }
   ],
   "source": [
    "# pass: placeholder for unimplemented functions\n",
    "\n",
    "wait_until = datetime.now().second + 2\n",
    "\n",
    "while datetime.now().second != wait_until:\n",
    "    pass\n",
    "print(f'We are at {wait_until} seconds!')"
   ]
  },
  {
   "cell_type": "code",
   "execution_count": 21,
   "id": "3caa367f-5e17-4557-b33a-0975038d9a27",
   "metadata": {},
   "outputs": [
    {
     "name": "stdout",
     "output_type": "stream",
     "text": [
      "We are at 51 seconds!\n"
     ]
    }
   ],
   "source": [
    "wait_until = datetime.now().second + 2\n",
    "\n",
    "while True:\n",
    "    if datetime.now().second == wait_until:\n",
    "        print(f'We are at {wait_until} seconds!')\n",
    "        break"
   ]
  },
  {
   "cell_type": "code",
   "execution_count": 29,
   "id": "5f03d5f2-9c7a-48c8-9a12-f1c5c5dc447a",
   "metadata": {},
   "outputs": [
    {
     "name": "stdout",
     "output_type": "stream",
     "text": [
      "We are at 8 seconds!\n"
     ]
    }
   ],
   "source": [
    "# continue: ignore the rest of the code fo current iteration\n",
    "#for letter in 'Python':     # First Example\n",
    "#   if letter == 'h':\n",
    "#      continue\n",
    "#   print 'Current Letter :', letter\n",
    "\n",
    "#Current Letter : P\n",
    "#Current Letter : y\n",
    "#Current Letter : t\n",
    "#Current Letter : o\n",
    "#Current Letter : n\n",
    "\n",
    "\n",
    "wait_until = datetime.now().second + 2\n",
    "\n",
    "while datetime.now().second != wait_until:\n",
    "        continue\n",
    "        print(f'We are at {wait_until} seconds!')\n",
    "\n",
    "print(f'We are at {wait_until} seconds!')"
   ]
  },
  {
   "cell_type": "code",
   "execution_count": 32,
   "id": "8b5893c0-a4b6-46c6-9fff-2a460cca8c35",
   "metadata": {},
   "outputs": [
    {
     "name": "stdout",
     "output_type": "stream",
     "text": [
      "We are at 8 seconds!\n"
     ]
    }
   ],
   "source": [
    "wait_until = datetime.now().second + 2\n",
    "\n",
    "while True:\n",
    "     if datetime.now().second < wait_until:\n",
    "        continue\n",
    "    break\n",
    "\n",
    "print(f'We are at {wait_until} seconds!')"
   ]
  },
  {
   "cell_type": "code",
   "execution_count": null,
   "id": "65950f63-f50a-405b-b6d6-2c5673dd5b8f",
   "metadata": {},
   "outputs": [],
   "source": []
  }
 ],
 "metadata": {
  "kernelspec": {
   "display_name": "Python 3 (ipykernel)",
   "language": "python",
   "name": "python3"
  },
  "language_info": {
   "codemirror_mode": {
    "name": "ipython",
    "version": 3
   },
   "file_extension": ".py",
   "mimetype": "text/x-python",
   "name": "python",
   "nbconvert_exporter": "python",
   "pygments_lexer": "ipython3",
   "version": "3.10.6"
  }
 },
 "nbformat": 4,
 "nbformat_minor": 5
}
