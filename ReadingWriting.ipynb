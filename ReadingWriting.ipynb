{
 "cells": [
  {
   "cell_type": "code",
   "execution_count": 1,
   "id": "f42b7c7a-33b0-43aa-bb90-2ecfc021dc10",
   "metadata": {},
   "outputs": [],
   "source": [
    "f = open('sampletext.txt','r')"
   ]
  },
  {
   "cell_type": "code",
   "execution_count": 2,
   "id": "803cafea-a161-45c3-8f6c-d04375a713f9",
   "metadata": {},
   "outputs": [
    {
     "data": {
      "text/plain": [
       "'I am learning Python\\n'"
      ]
     },
     "execution_count": 2,
     "metadata": {},
     "output_type": "execute_result"
    }
   ],
   "source": [
    "f.readline()"
   ]
  },
  {
   "cell_type": "code",
   "execution_count": 3,
   "id": "3b0ee495-1afe-4505-9743-3084a3d2a5c8",
   "metadata": {},
   "outputs": [
    {
     "data": {
      "text/plain": [
       "['I want to get an internship\\n',\n",
       " 'I need a txt file to learn how to import files']"
      ]
     },
     "execution_count": 3,
     "metadata": {},
     "output_type": "execute_result"
    }
   ],
   "source": [
    "f.readlines()"
   ]
  },
  {
   "cell_type": "code",
   "execution_count": 5,
   "id": "38d72c9c-c954-41c3-bc0f-8c9ce0a7148a",
   "metadata": {},
   "outputs": [
    {
     "name": "stdout",
     "output_type": "stream",
     "text": [
      "I am learning Python\n",
      "I want to get an internship\n",
      "I need a txt file to learn how to import files\n"
     ]
    }
   ],
   "source": [
    "f = open('sampletext.txt','r')\n",
    "for line in f.readlines():\n",
    "    print(line.strip())"
   ]
  },
  {
   "cell_type": "markdown",
   "id": "da7a60ce-b5ce-461b-97ea-131c3eed56ae",
   "metadata": {
    "tags": []
   },
   "source": [
    "### Writing Files"
   ]
  },
  {
   "cell_type": "code",
   "execution_count": 6,
   "id": "d833520c-e5c9-4f92-84b9-b65a9931cf14",
   "metadata": {},
   "outputs": [
    {
     "name": "stdout",
     "output_type": "stream",
     "text": [
      "<_io.TextIOWrapper name='sampletext.txt' mode='w' encoding='UTF-8'>\n"
     ]
    }
   ],
   "source": [
    "f = open('sampletext.txt', 'w')\n",
    "print(f)"
   ]
  },
  {
   "cell_type": "code",
   "execution_count": 7,
   "id": "b8eb4497-4003-41c7-b9d2-a21d3bbc6531",
   "metadata": {},
   "outputs": [
    {
     "data": {
      "text/plain": [
       "7"
      ]
     },
     "execution_count": 7,
     "metadata": {},
     "output_type": "execute_result"
    }
   ],
   "source": [
    "f.write('Line 1\\n')\n",
    "f.write('Line 2\\n')"
   ]
  },
  {
   "cell_type": "code",
   "execution_count": 9,
   "id": "18e590cf-c8a2-4c48-8bc8-1606db01d523",
   "metadata": {},
   "outputs": [],
   "source": [
    "f.close()"
   ]
  },
  {
   "cell_type": "markdown",
   "id": "8a4b3968-55d0-40d1-a715-fb137ac17467",
   "metadata": {
    "tags": []
   },
   "source": [
    "#### Appending Files"
   ]
  },
  {
   "cell_type": "code",
   "execution_count": 11,
   "id": "87474f73-3e33-4546-946e-e609fb657605",
   "metadata": {},
   "outputs": [],
   "source": [
    "f = open('sampletext.txt','a')\n",
    "f.write('Line 1\\n')\n",
    "f.write('Line 2\\n')\n",
    "f.close()"
   ]
  },
  {
   "cell_type": "code",
   "execution_count": 12,
   "id": "1ef61b0d-bc95-42fc-a3fb-382196531216",
   "metadata": {},
   "outputs": [
    {
     "name": "stdout",
     "output_type": "stream",
     "text": [
      "<_io.TextIOWrapper name='sampletext.txt' mode='a' encoding='UTF-8'>\n"
     ]
    }
   ],
   "source": [
    "with open('sampletext.txt','a') as f:\n",
    "    f.write('some text')\n",
    "    f.write('text')\n",
    "\n",
    "print(f)"
   ]
  },
  {
   "cell_type": "code",
   "execution_count": null,
   "id": "53f64946-f0c1-4138-8a18-775062fad7c8",
   "metadata": {},
   "outputs": [],
   "source": []
  }
 ],
 "metadata": {
  "kernelspec": {
   "display_name": "Python 3 (ipykernel)",
   "language": "python",
   "name": "python3"
  },
  "language_info": {
   "codemirror_mode": {
    "name": "ipython",
    "version": 3
   },
   "file_extension": ".py",
   "mimetype": "text/x-python",
   "name": "python",
   "nbconvert_exporter": "python",
   "pygments_lexer": "ipython3",
   "version": "3.10.6"
  }
 },
 "nbformat": 4,
 "nbformat_minor": 5
}
