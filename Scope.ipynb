{
 "cells": [
  {
   "cell_type": "markdown",
   "id": "e76e07f3-ef21-417b-a1cc-52a4f9541a11",
   "metadata": {},
   "source": [
    "### Function Scope"
   ]
  },
  {
   "cell_type": "code",
   "execution_count": 2,
   "id": "45460625-a51e-4d93-a4fc-c42ed3016071",
   "metadata": {},
   "outputs": [
    {
     "name": "stdout",
     "output_type": "stream",
     "text": [
      "(1, 2)\n",
      "{'operation': 'sum'}\n"
     ]
    }
   ],
   "source": [
    "def performOperation(*args, **kwargs):\n",
    "    print(args)\n",
    "    print(kwargs)\n",
    "    \n",
    "performOperation(1,2, operation='sum')"
   ]
  },
  {
   "cell_type": "markdown",
   "id": "f8ae0fae-f88f-4ae0-a37a-75b8797dc735",
   "metadata": {},
   "source": [
    "#### locals()"
   ]
  },
  {
   "cell_type": "code",
   "execution_count": 5,
   "id": "94578aa9-6e6b-492a-aae1-007930e76700",
   "metadata": {},
   "outputs": [
    {
     "name": "stdout",
     "output_type": "stream",
     "text": [
      "{'num1': 1, 'num2': 2, 'operation': 'multiply'}\n"
     ]
    }
   ],
   "source": [
    "def performOperation(num1, num2, operation='sum'):\n",
    "    print(locals())\n",
    "    \n",
    "performOperation(1,2, operation='multiply')"
   ]
  },
  {
   "cell_type": "markdown",
   "id": "2fea9875-a511-4e8d-adfe-1bce548f1fcf",
   "metadata": {},
   "source": [
    "#### globals()"
   ]
  },
  {
   "cell_type": "code",
   "execution_count": 6,
   "id": "61acb659-4819-43e4-af76-4cc44cc14c0e",
   "metadata": {},
   "outputs": [
    {
     "data": {
      "text/plain": [
       "{'__name__': '__main__',\n",
       " '__doc__': 'Automatically created module for IPython interactive environment',\n",
       " '__package__': None,\n",
       " '__loader__': None,\n",
       " '__spec__': None,\n",
       " '__builtin__': <module 'builtins' (built-in)>,\n",
       " '__builtins__': <module 'builtins' (built-in)>,\n",
       " '_ih': ['',\n",
       "  '#### Global and Local Scople',\n",
       "  \"def performOperation(*args, **kwargs):\\n    print(args)\\n    print(kwargs)\\n    \\nperformOperation(1,2, operation='sum')\",\n",
       "  \"def performOperation(num1, num2, operation='sum'):\\n    print(local())\\nperformOperation(1,2, operation='multiply')\\n                     \",\n",
       "  \"def performOperation(num1, num2, operation='sum'):\\n    print(locals())\\nperformOperation(1,2, operation='multiply')\\n                     \",\n",
       "  \"def performOperation(num1, num2, operation='sum'):\\n    print(locals())\\n    \\nperformOperation(1,2, operation='multiply')\",\n",
       "  'globals()'],\n",
       " '_oh': {},\n",
       " '_dh': [PosixPath('/home/jupyter')],\n",
       " 'In': ['',\n",
       "  '#### Global and Local Scople',\n",
       "  \"def performOperation(*args, **kwargs):\\n    print(args)\\n    print(kwargs)\\n    \\nperformOperation(1,2, operation='sum')\",\n",
       "  \"def performOperation(num1, num2, operation='sum'):\\n    print(local())\\nperformOperation(1,2, operation='multiply')\\n                     \",\n",
       "  \"def performOperation(num1, num2, operation='sum'):\\n    print(locals())\\nperformOperation(1,2, operation='multiply')\\n                     \",\n",
       "  \"def performOperation(num1, num2, operation='sum'):\\n    print(locals())\\n    \\nperformOperation(1,2, operation='multiply')\",\n",
       "  'globals()'],\n",
       " 'Out': {},\n",
       " 'get_ipython': <bound method InteractiveShell.get_ipython of <ipykernel.zmqshell.ZMQInteractiveShell object at 0x7fafe8ae4b50>>,\n",
       " 'exit': <IPython.core.autocall.ZMQExitAutocall at 0x7fafe8c3faf0>,\n",
       " 'quit': <IPython.core.autocall.ZMQExitAutocall at 0x7fafe8c3faf0>,\n",
       " '_': '',\n",
       " '__': '',\n",
       " '___': '',\n",
       " '_i': \"def performOperation(num1, num2, operation='sum'):\\n    print(locals())\\n    \\nperformOperation(1,2, operation='multiply')\",\n",
       " '_ii': \"def performOperation(num1, num2, operation='sum'):\\n    print(locals())\\nperformOperation(1,2, operation='multiply')\\n                     \",\n",
       " '_iii': \"def performOperation(num1, num2, operation='sum'):\\n    print(local())\\nperformOperation(1,2, operation='multiply')\\n                     \",\n",
       " '_i1': '#### Global and Local Scople',\n",
       " '_i2': \"def performOperation(*args, **kwargs):\\n    print(args)\\n    print(kwargs)\\n    \\nperformOperation(1,2, operation='sum')\",\n",
       " 'performOperation': <function __main__.performOperation(num1, num2, operation='sum')>,\n",
       " '_i3': \"def performOperation(num1, num2, operation='sum'):\\n    print(local())\\nperformOperation(1,2, operation='multiply')\\n                     \",\n",
       " '_i4': \"def performOperation(num1, num2, operation='sum'):\\n    print(locals())\\nperformOperation(1,2, operation='multiply')\\n                     \",\n",
       " '_i5': \"def performOperation(num1, num2, operation='sum'):\\n    print(locals())\\n    \\nperformOperation(1,2, operation='multiply')\",\n",
       " '_i6': 'globals()'}"
      ]
     },
     "execution_count": 6,
     "metadata": {},
     "output_type": "execute_result"
    }
   ],
   "source": [
    "globals()"
   ]
  },
  {
   "cell_type": "markdown",
   "id": "332efb3c-43a0-453b-be5e-cd878b2408f4",
   "metadata": {},
   "source": [
    "#### Global and Local Scope"
   ]
  },
  {
   "cell_type": "code",
   "execution_count": 14,
   "id": "9c8bc841-cffd-48f6-8d26-1dd069cb3915",
   "metadata": {},
   "outputs": [
    {
     "name": "stdout",
     "output_type": "stream",
     "text": [
      "{'var1': 1, 'var2': 2}\n",
      "Some global data\n",
      "{'__name__': '__main__', '__doc__': 'Automatically created module for IPython interactive environment', '__package__': None, '__loader__': None, '__spec__': None, '__builtin__': <module 'builtins' (built-in)>, '__builtins__': <module 'builtins' (built-in)>, '_ih': ['', '#### Global and Local Scople', \"def performOperation(*args, **kwargs):\\n    print(args)\\n    print(kwargs)\\n    \\nperformOperation(1,2, operation='sum')\", \"def performOperation(num1, num2, operation='sum'):\\n    print(local())\\nperformOperation(1,2, operation='multiply')\\n                     \", \"def performOperation(num1, num2, operation='sum'):\\n    print(locals())\\nperformOperation(1,2, operation='multiply')\\n                     \", \"def performOperation(num1, num2, operation='sum'):\\n    print(locals())\\n    \\nperformOperation(1,2, operation='multiply')\", 'globals()', 'def function1(var1, var2):\\n    print(locals())\\n\\ndef function2(var1, var2):\\n    print(globals())', 'def function1(var1, var2):\\n    print(locals())\\n\\ndef function2(var1, var2):\\n    print(globals())\\n\\nfunction1(1,2)\\nfunction2(3,4)', 'def function1(var1, var2):\\n    print(locals())\\n\\ndef function2(var3, var4):\\n    print(globals())\\n\\nfunction1(1,2)\\nfunction2(3,4)', 'def function1(var1, var2):\\n    print(locals())\\n\\ndef function2(var3, var2):\\n    print(globals())\\n\\nfunction1(1,2)\\nfunction2(3,4)', 'def function1(var1, var2):\\n    print(locals())\\n\\ndef function2(var3, var2):\\n    print(globals())\\n\\nfunction1(1,2)\\nfunction2(3,4)', \"message = 'Some global data'\\ndef function1(var1, var2):\\n    print(locals())\\n    print(message)\\n\\ndef function2(var3, var2):\\n    print(globals())\\n\\nfunction1(1,2)\\nfunction2(3,4)\", \"message = 'Some global data'\\ndef function1(var1, var2):\\n    print(locals())\\n    print(message)\\n\\ndef function2(var3, var2):\\n    print(globals())\\n\\nfunction1(1,2)\\nfunction2(3,4)\\nprint(message)\", \"message = 'Some global data'\\ndef function1(var1, var2):\\n    print(locals())\\n    print(message)\\n\\ndef function2(var3, var2):\\n    print(globals())\\n    print(message)\\n\\nfunction1(1,2)\\nfunction2(3,4)\"], '_oh': {6: {...}}, '_dh': [PosixPath('/home/jupyter')], 'In': ['', '#### Global and Local Scople', \"def performOperation(*args, **kwargs):\\n    print(args)\\n    print(kwargs)\\n    \\nperformOperation(1,2, operation='sum')\", \"def performOperation(num1, num2, operation='sum'):\\n    print(local())\\nperformOperation(1,2, operation='multiply')\\n                     \", \"def performOperation(num1, num2, operation='sum'):\\n    print(locals())\\nperformOperation(1,2, operation='multiply')\\n                     \", \"def performOperation(num1, num2, operation='sum'):\\n    print(locals())\\n    \\nperformOperation(1,2, operation='multiply')\", 'globals()', 'def function1(var1, var2):\\n    print(locals())\\n\\ndef function2(var1, var2):\\n    print(globals())', 'def function1(var1, var2):\\n    print(locals())\\n\\ndef function2(var1, var2):\\n    print(globals())\\n\\nfunction1(1,2)\\nfunction2(3,4)', 'def function1(var1, var2):\\n    print(locals())\\n\\ndef function2(var3, var4):\\n    print(globals())\\n\\nfunction1(1,2)\\nfunction2(3,4)', 'def function1(var1, var2):\\n    print(locals())\\n\\ndef function2(var3, var2):\\n    print(globals())\\n\\nfunction1(1,2)\\nfunction2(3,4)', 'def function1(var1, var2):\\n    print(locals())\\n\\ndef function2(var3, var2):\\n    print(globals())\\n\\nfunction1(1,2)\\nfunction2(3,4)', \"message = 'Some global data'\\ndef function1(var1, var2):\\n    print(locals())\\n    print(message)\\n\\ndef function2(var3, var2):\\n    print(globals())\\n\\nfunction1(1,2)\\nfunction2(3,4)\", \"message = 'Some global data'\\ndef function1(var1, var2):\\n    print(locals())\\n    print(message)\\n\\ndef function2(var3, var2):\\n    print(globals())\\n\\nfunction1(1,2)\\nfunction2(3,4)\\nprint(message)\", \"message = 'Some global data'\\ndef function1(var1, var2):\\n    print(locals())\\n    print(message)\\n\\ndef function2(var3, var2):\\n    print(globals())\\n    print(message)\\n\\nfunction1(1,2)\\nfunction2(3,4)\"], 'Out': {6: {...}}, 'get_ipython': <bound method InteractiveShell.get_ipython of <ipykernel.zmqshell.ZMQInteractiveShell object at 0x7fafe8ae4b50>>, 'exit': <IPython.core.autocall.ZMQExitAutocall object at 0x7fafe8c3faf0>, 'quit': <IPython.core.autocall.ZMQExitAutocall object at 0x7fafe8c3faf0>, '_': {...}, '__': '', '___': '', '_i': \"message = 'Some global data'\\ndef function1(var1, var2):\\n    print(locals())\\n    print(message)\\n\\ndef function2(var3, var2):\\n    print(globals())\\n\\nfunction1(1,2)\\nfunction2(3,4)\\nprint(message)\", '_ii': \"message = 'Some global data'\\ndef function1(var1, var2):\\n    print(locals())\\n    print(message)\\n\\ndef function2(var3, var2):\\n    print(globals())\\n\\nfunction1(1,2)\\nfunction2(3,4)\", '_iii': 'def function1(var1, var2):\\n    print(locals())\\n\\ndef function2(var3, var2):\\n    print(globals())\\n\\nfunction1(1,2)\\nfunction2(3,4)', '_i1': '#### Global and Local Scople', '_i2': \"def performOperation(*args, **kwargs):\\n    print(args)\\n    print(kwargs)\\n    \\nperformOperation(1,2, operation='sum')\", 'performOperation': <function performOperation at 0x7fafce4bfb50>, '_i3': \"def performOperation(num1, num2, operation='sum'):\\n    print(local())\\nperformOperation(1,2, operation='multiply')\\n                     \", '_i4': \"def performOperation(num1, num2, operation='sum'):\\n    print(locals())\\nperformOperation(1,2, operation='multiply')\\n                     \", '_i5': \"def performOperation(num1, num2, operation='sum'):\\n    print(locals())\\n    \\nperformOperation(1,2, operation='multiply')\", '_i6': 'globals()', '_6': {...}, '_i7': 'def function1(var1, var2):\\n    print(locals())\\n\\ndef function2(var1, var2):\\n    print(globals())', 'function1': <function function1 at 0x7fafce4bf2e0>, 'function2': <function function2 at 0x7fafce25c040>, '_i8': 'def function1(var1, var2):\\n    print(locals())\\n\\ndef function2(var1, var2):\\n    print(globals())\\n\\nfunction1(1,2)\\nfunction2(3,4)', '_i9': 'def function1(var1, var2):\\n    print(locals())\\n\\ndef function2(var3, var4):\\n    print(globals())\\n\\nfunction1(1,2)\\nfunction2(3,4)', '_i10': 'def function1(var1, var2):\\n    print(locals())\\n\\ndef function2(var3, var2):\\n    print(globals())\\n\\nfunction1(1,2)\\nfunction2(3,4)', '_i11': 'def function1(var1, var2):\\n    print(locals())\\n\\ndef function2(var3, var2):\\n    print(globals())\\n\\nfunction1(1,2)\\nfunction2(3,4)', '_i12': \"message = 'Some global data'\\ndef function1(var1, var2):\\n    print(locals())\\n    print(message)\\n\\ndef function2(var3, var2):\\n    print(globals())\\n\\nfunction1(1,2)\\nfunction2(3,4)\", 'message': 'Some global data', '_i13': \"message = 'Some global data'\\ndef function1(var1, var2):\\n    print(locals())\\n    print(message)\\n\\ndef function2(var3, var2):\\n    print(globals())\\n\\nfunction1(1,2)\\nfunction2(3,4)\\nprint(message)\", '_i14': \"message = 'Some global data'\\ndef function1(var1, var2):\\n    print(locals())\\n    print(message)\\n\\ndef function2(var3, var2):\\n    print(globals())\\n    print(message)\\n\\nfunction1(1,2)\\nfunction2(3,4)\"}\n",
      "Some global data\n"
     ]
    }
   ],
   "source": [
    "message = 'Some global data'\n",
    "def function1(var1, var2):\n",
    "    print(locals())\n",
    "    print(message)\n",
    "\n",
    "def function2(var3, var2):\n",
    "    print(globals())\n",
    "    print(message)\n",
    "\n",
    "function1(1,2)\n",
    "function2(3,4)\n"
   ]
  },
  {
   "cell_type": "code",
   "execution_count": 16,
   "id": "9b3d7daf-2cd9-49f4-b5a9-9f96094603aa",
   "metadata": {},
   "outputs": [
    {
     "name": "stdout",
     "output_type": "stream",
     "text": [
      "1\n",
      "{'var1': 1, 'var2': 2}\n",
      "Some global data\n",
      "2\n",
      "{'__name__': '__main__', '__doc__': 'Automatically created module for IPython interactive environment', '__package__': None, '__loader__': None, '__spec__': None, '__builtin__': <module 'builtins' (built-in)>, '__builtins__': <module 'builtins' (built-in)>, '_ih': ['', '#### Global and Local Scople', \"def performOperation(*args, **kwargs):\\n    print(args)\\n    print(kwargs)\\n    \\nperformOperation(1,2, operation='sum')\", \"def performOperation(num1, num2, operation='sum'):\\n    print(local())\\nperformOperation(1,2, operation='multiply')\\n                     \", \"def performOperation(num1, num2, operation='sum'):\\n    print(locals())\\nperformOperation(1,2, operation='multiply')\\n                     \", \"def performOperation(num1, num2, operation='sum'):\\n    print(locals())\\n    \\nperformOperation(1,2, operation='multiply')\", 'globals()', 'def function1(var1, var2):\\n    print(locals())\\n\\ndef function2(var1, var2):\\n    print(globals())', 'def function1(var1, var2):\\n    print(locals())\\n\\ndef function2(var1, var2):\\n    print(globals())\\n\\nfunction1(1,2)\\nfunction2(3,4)', 'def function1(var1, var2):\\n    print(locals())\\n\\ndef function2(var3, var4):\\n    print(globals())\\n\\nfunction1(1,2)\\nfunction2(3,4)', 'def function1(var1, var2):\\n    print(locals())\\n\\ndef function2(var3, var2):\\n    print(globals())\\n\\nfunction1(1,2)\\nfunction2(3,4)', 'def function1(var1, var2):\\n    print(locals())\\n\\ndef function2(var3, var2):\\n    print(globals())\\n\\nfunction1(1,2)\\nfunction2(3,4)', \"message = 'Some global data'\\ndef function1(var1, var2):\\n    print(locals())\\n    print(message)\\n\\ndef function2(var3, var2):\\n    print(globals())\\n\\nfunction1(1,2)\\nfunction2(3,4)\", \"message = 'Some global data'\\ndef function1(var1, var2):\\n    print(locals())\\n    print(message)\\n\\ndef function2(var3, var2):\\n    print(globals())\\n\\nfunction1(1,2)\\nfunction2(3,4)\\nprint(message)\", \"message = 'Some global data'\\ndef function1(var1, var2):\\n    print(locals())\\n    print(message)\\n\\ndef function2(var3, var2):\\n    print(globals())\\n    print(message)\\n\\nfunction1(1,2)\\nfunction2(3,4)\", \"message = 'Some global data'\\nvar1 = 2\\ndef function1(var1, var2):\\n    print(var1)\\n    print(locals())\\n    print(message)\\n\\ndef function2(var3, var2):\\n    print(var1)\\n    print(globals())\\n    print(message)\\n\\nfunction1(1,2)\\nfunction2(3,4)\", \"message = 'Some global data'\\nvar1 = 2\\ndef function1(var1, var2):\\n    print(var1)\\n    print(locals())\\n    print(message)\\n    #uses local var1\\n\\ndef function2(var3, var2):\\n    print(var1)\\n    print(globals())\\n    print(message)\\n    #uses global var1\\n\\nfunction1(1,2)\\nfunction2(3,4)\"], '_oh': {6: {...}}, '_dh': [PosixPath('/home/jupyter')], 'In': ['', '#### Global and Local Scople', \"def performOperation(*args, **kwargs):\\n    print(args)\\n    print(kwargs)\\n    \\nperformOperation(1,2, operation='sum')\", \"def performOperation(num1, num2, operation='sum'):\\n    print(local())\\nperformOperation(1,2, operation='multiply')\\n                     \", \"def performOperation(num1, num2, operation='sum'):\\n    print(locals())\\nperformOperation(1,2, operation='multiply')\\n                     \", \"def performOperation(num1, num2, operation='sum'):\\n    print(locals())\\n    \\nperformOperation(1,2, operation='multiply')\", 'globals()', 'def function1(var1, var2):\\n    print(locals())\\n\\ndef function2(var1, var2):\\n    print(globals())', 'def function1(var1, var2):\\n    print(locals())\\n\\ndef function2(var1, var2):\\n    print(globals())\\n\\nfunction1(1,2)\\nfunction2(3,4)', 'def function1(var1, var2):\\n    print(locals())\\n\\ndef function2(var3, var4):\\n    print(globals())\\n\\nfunction1(1,2)\\nfunction2(3,4)', 'def function1(var1, var2):\\n    print(locals())\\n\\ndef function2(var3, var2):\\n    print(globals())\\n\\nfunction1(1,2)\\nfunction2(3,4)', 'def function1(var1, var2):\\n    print(locals())\\n\\ndef function2(var3, var2):\\n    print(globals())\\n\\nfunction1(1,2)\\nfunction2(3,4)', \"message = 'Some global data'\\ndef function1(var1, var2):\\n    print(locals())\\n    print(message)\\n\\ndef function2(var3, var2):\\n    print(globals())\\n\\nfunction1(1,2)\\nfunction2(3,4)\", \"message = 'Some global data'\\ndef function1(var1, var2):\\n    print(locals())\\n    print(message)\\n\\ndef function2(var3, var2):\\n    print(globals())\\n\\nfunction1(1,2)\\nfunction2(3,4)\\nprint(message)\", \"message = 'Some global data'\\ndef function1(var1, var2):\\n    print(locals())\\n    print(message)\\n\\ndef function2(var3, var2):\\n    print(globals())\\n    print(message)\\n\\nfunction1(1,2)\\nfunction2(3,4)\", \"message = 'Some global data'\\nvar1 = 2\\ndef function1(var1, var2):\\n    print(var1)\\n    print(locals())\\n    print(message)\\n\\ndef function2(var3, var2):\\n    print(var1)\\n    print(globals())\\n    print(message)\\n\\nfunction1(1,2)\\nfunction2(3,4)\", \"message = 'Some global data'\\nvar1 = 2\\ndef function1(var1, var2):\\n    print(var1)\\n    print(locals())\\n    print(message)\\n    #uses local var1\\n\\ndef function2(var3, var2):\\n    print(var1)\\n    print(globals())\\n    print(message)\\n    #uses global var1\\n\\nfunction1(1,2)\\nfunction2(3,4)\"], 'Out': {6: {...}}, 'get_ipython': <bound method InteractiveShell.get_ipython of <ipykernel.zmqshell.ZMQInteractiveShell object at 0x7fafe8ae4b50>>, 'exit': <IPython.core.autocall.ZMQExitAutocall object at 0x7fafe8c3faf0>, 'quit': <IPython.core.autocall.ZMQExitAutocall object at 0x7fafe8c3faf0>, '_': {...}, '__': '', '___': '', '_i': \"message = 'Some global data'\\nvar1 = 2\\ndef function1(var1, var2):\\n    print(var1)\\n    print(locals())\\n    print(message)\\n\\ndef function2(var3, var2):\\n    print(var1)\\n    print(globals())\\n    print(message)\\n\\nfunction1(1,2)\\nfunction2(3,4)\", '_ii': \"message = 'Some global data'\\ndef function1(var1, var2):\\n    print(locals())\\n    print(message)\\n\\ndef function2(var3, var2):\\n    print(globals())\\n    print(message)\\n\\nfunction1(1,2)\\nfunction2(3,4)\", '_iii': \"message = 'Some global data'\\ndef function1(var1, var2):\\n    print(locals())\\n    print(message)\\n\\ndef function2(var3, var2):\\n    print(globals())\\n\\nfunction1(1,2)\\nfunction2(3,4)\\nprint(message)\", '_i1': '#### Global and Local Scople', '_i2': \"def performOperation(*args, **kwargs):\\n    print(args)\\n    print(kwargs)\\n    \\nperformOperation(1,2, operation='sum')\", 'performOperation': <function performOperation at 0x7fafce4bfb50>, '_i3': \"def performOperation(num1, num2, operation='sum'):\\n    print(local())\\nperformOperation(1,2, operation='multiply')\\n                     \", '_i4': \"def performOperation(num1, num2, operation='sum'):\\n    print(locals())\\nperformOperation(1,2, operation='multiply')\\n                     \", '_i5': \"def performOperation(num1, num2, operation='sum'):\\n    print(locals())\\n    \\nperformOperation(1,2, operation='multiply')\", '_i6': 'globals()', '_6': {...}, '_i7': 'def function1(var1, var2):\\n    print(locals())\\n\\ndef function2(var1, var2):\\n    print(globals())', 'function1': <function function1 at 0x7fafce25c040>, 'function2': <function function2 at 0x7fafce25c1f0>, '_i8': 'def function1(var1, var2):\\n    print(locals())\\n\\ndef function2(var1, var2):\\n    print(globals())\\n\\nfunction1(1,2)\\nfunction2(3,4)', '_i9': 'def function1(var1, var2):\\n    print(locals())\\n\\ndef function2(var3, var4):\\n    print(globals())\\n\\nfunction1(1,2)\\nfunction2(3,4)', '_i10': 'def function1(var1, var2):\\n    print(locals())\\n\\ndef function2(var3, var2):\\n    print(globals())\\n\\nfunction1(1,2)\\nfunction2(3,4)', '_i11': 'def function1(var1, var2):\\n    print(locals())\\n\\ndef function2(var3, var2):\\n    print(globals())\\n\\nfunction1(1,2)\\nfunction2(3,4)', '_i12': \"message = 'Some global data'\\ndef function1(var1, var2):\\n    print(locals())\\n    print(message)\\n\\ndef function2(var3, var2):\\n    print(globals())\\n\\nfunction1(1,2)\\nfunction2(3,4)\", 'message': 'Some global data', '_i13': \"message = 'Some global data'\\ndef function1(var1, var2):\\n    print(locals())\\n    print(message)\\n\\ndef function2(var3, var2):\\n    print(globals())\\n\\nfunction1(1,2)\\nfunction2(3,4)\\nprint(message)\", '_i14': \"message = 'Some global data'\\ndef function1(var1, var2):\\n    print(locals())\\n    print(message)\\n\\ndef function2(var3, var2):\\n    print(globals())\\n    print(message)\\n\\nfunction1(1,2)\\nfunction2(3,4)\", '_i15': \"message = 'Some global data'\\nvar1 = 2\\ndef function1(var1, var2):\\n    print(var1)\\n    print(locals())\\n    print(message)\\n\\ndef function2(var3, var2):\\n    print(var1)\\n    print(globals())\\n    print(message)\\n\\nfunction1(1,2)\\nfunction2(3,4)\", 'var1': 2, '_i16': \"message = 'Some global data'\\nvar1 = 2\\ndef function1(var1, var2):\\n    print(var1)\\n    print(locals())\\n    print(message)\\n    #uses local var1\\n\\ndef function2(var3, var2):\\n    print(var1)\\n    print(globals())\\n    print(message)\\n    #uses global var1\\n\\nfunction1(1,2)\\nfunction2(3,4)\"}\n",
      "Some global data\n"
     ]
    }
   ],
   "source": [
    "message = 'Some global data'\n",
    "var1 = 2\n",
    "def function1(var1, var2):\n",
    "    print(var1)\n",
    "    print(locals())\n",
    "    print(message)\n",
    "    #uses local var1\n",
    "\n",
    "def function2(var3, var2):\n",
    "    print(var1)\n",
    "    print(globals())\n",
    "    print(message)\n",
    "    #uses global var1\n",
    "\n",
    "function1(1,2)\n",
    "function2(3,4)"
   ]
  },
  {
   "cell_type": "code",
   "execution_count": 18,
   "id": "b5f4e344-7558-4b12-8e38-aeccc34bf166",
   "metadata": {},
   "outputs": [
    {
     "name": "stdout",
     "output_type": "stream",
     "text": [
      "1\n",
      "{'varA': 1, 'varB': 2, 'message': 'Some local data', 'inner_function': <function function.<locals>.inner_function at 0x7fafce4be680>}\n",
      "inner_function local scople: {'varA': 123, 'varB': 456}\n"
     ]
    }
   ],
   "source": [
    "def function(varA, varB):\n",
    "    message = 'Some local data'\n",
    "    print(varA)\n",
    "    def inner_function(varA, varB):\n",
    "        print(f'inner_function local scople: {locals()}')\n",
    "    \n",
    "    print(locals())\n",
    "    inner_function(123, 456)\n",
    "\n",
    "function(1,2)"
   ]
  },
  {
   "cell_type": "markdown",
   "id": "9a580145-c319-4cf3-9815-c2800ee64861",
   "metadata": {},
   "source": [
    "### Vaiables as Functions"
   ]
  },
  {
   "cell_type": "code",
   "execution_count": 19,
   "id": "32e4f79f-1465-4cfe-81b4-9d7a0db252fc",
   "metadata": {},
   "outputs": [],
   "source": [
    "x = 5"
   ]
  },
  {
   "cell_type": "code",
   "execution_count": 20,
   "id": "3a5ae2e7-566d-4d70-b22b-4a0df5f88e85",
   "metadata": {},
   "outputs": [],
   "source": [
    "def x():\n",
    "    return 5"
   ]
  },
  {
   "cell_type": "markdown",
   "id": "edace1ed-f427-4ae8-88fc-898cdd8ef570",
   "metadata": {},
   "source": [
    "#### Viewing function data with __code__"
   ]
  },
  {
   "cell_type": "code",
   "execution_count": 21,
   "id": "cd5a67ec-c491-4b52-97bd-7fc88948064f",
   "metadata": {},
   "outputs": [
    {
     "name": "stdout",
     "output_type": "stream",
     "text": [
      "()\n",
      "b'd\\x01S\\x00'\n"
     ]
    }
   ],
   "source": [
    "print(x.__code__.co_varnames)\n",
    "print(x.__code__.co_code)"
   ]
  },
  {
   "cell_type": "code",
   "execution_count": 22,
   "id": "402f2f7d-6799-4093-b53c-13771759f5ba",
   "metadata": {},
   "outputs": [],
   "source": [
    "text = '''\n",
    "I greatly appreciate the time you have taken to review my resume. \n",
    "I look forward to meeting with you \n",
    "to discuss my qualifications in an interview. \n",
    "'''"
   ]
  },
  {
   "cell_type": "code",
   "execution_count": 24,
   "id": "91f493ca-f53f-49c2-9add-1aabcc85992d",
   "metadata": {},
   "outputs": [],
   "source": [
    "def lowercase(text):\n",
    "    return text.lower()"
   ]
  },
  {
   "cell_type": "code",
   "execution_count": 29,
   "id": "04c19956-7d74-4a94-8a88-5a0f9da3b6b9",
   "metadata": {},
   "outputs": [
    {
     "data": {
      "text/plain": [
       "'\\ni greatly appreciate the time you have taken to review my resume. \\ni look forward to meeting with you \\nto discuss my qualifications in an interview. \\n'"
      ]
     },
     "execution_count": 29,
     "metadata": {},
     "output_type": "execute_result"
    }
   ],
   "source": [
    "lowercase(text)"
   ]
  },
  {
   "cell_type": "code",
   "execution_count": 31,
   "id": "369a725e-af4b-44b5-992e-00aaf1bf3b21",
   "metadata": {},
   "outputs": [],
   "source": [
    "def removePunctuation(text):\n",
    "    punctuations = ['.',',','-','*']\n",
    "    for punctuation in punctuations:\n",
    "        text = text.replace(punctuation, '')\n",
    "    return text"
   ]
  },
  {
   "cell_type": "code",
   "execution_count": 32,
   "id": "ee600ccd-5d6a-4055-82be-30b2d0143fd5",
   "metadata": {},
   "outputs": [
    {
     "data": {
      "text/plain": [
       "'\\nI greatly appreciate the time you have taken to review my resume \\nI look forward to meeting with you \\nto discuss my qualifications in an interview \\n'"
      ]
     },
     "execution_count": 32,
     "metadata": {},
     "output_type": "execute_result"
    }
   ],
   "source": [
    "removePunctuation(text)"
   ]
  },
  {
   "cell_type": "code",
   "execution_count": 26,
   "id": "0cba4bd9-604a-4d03-a640-7425e6d8f0f7",
   "metadata": {},
   "outputs": [],
   "source": [
    "def removeNewlines(text):\n",
    "    text = text.replace('\\n',' ')\n",
    "    return text"
   ]
  },
  {
   "cell_type": "code",
   "execution_count": 33,
   "id": "f10004e3-bbfe-4b21-88c8-b93bef9a14e4",
   "metadata": {},
   "outputs": [
    {
     "data": {
      "text/plain": [
       "' I greatly appreciate the time you have taken to review my resume.  I look forward to meeting with you  to discuss my qualifications in an interview.  '"
      ]
     },
     "execution_count": 33,
     "metadata": {},
     "output_type": "execute_result"
    }
   ],
   "source": [
    "removeNewlines(text)"
   ]
  },
  {
   "cell_type": "code",
   "execution_count": 27,
   "id": "e21e777a-ff69-468b-9c7b-5edf7cc73821",
   "metadata": {},
   "outputs": [],
   "source": [
    "def removeShortWords(text):\n",
    "    return ' '.join([word for word in text.split() if len(word) > 3])"
   ]
  },
  {
   "cell_type": "code",
   "execution_count": 34,
   "id": "924cb385-337c-4c99-bc9d-78144a48bbe9",
   "metadata": {},
   "outputs": [
    {
     "data": {
      "text/plain": [
       "'greatly appreciate time have taken review resume. look forward meeting with discuss qualifications interview.'"
      ]
     },
     "execution_count": 34,
     "metadata": {},
     "output_type": "execute_result"
    }
   ],
   "source": [
    "removeShortWords(text)"
   ]
  },
  {
   "cell_type": "code",
   "execution_count": 28,
   "id": "4309105d-6974-4860-ad94-526e54fd2e55",
   "metadata": {},
   "outputs": [],
   "source": [
    "def removeLongWords(text):\n",
    "    return ' '.join([word for word in text.split() if len(word) < 6])"
   ]
  },
  {
   "cell_type": "code",
   "execution_count": 35,
   "id": "f938b614-1434-4d00-b219-ec45e4a5e7fd",
   "metadata": {},
   "outputs": [
    {
     "data": {
      "text/plain": [
       "'I the time you have taken to my I look to with you to my in an'"
      ]
     },
     "execution_count": 35,
     "metadata": {},
     "output_type": "execute_result"
    }
   ],
   "source": [
    "removeLongWords(text)"
   ]
  },
  {
   "cell_type": "code",
   "execution_count": 36,
   "id": "b8d8d1ad-3174-43bb-8a97-de6171a532c9",
   "metadata": {},
   "outputs": [
    {
     "name": "stdout",
     "output_type": "stream",
     "text": [
      " i greatly appreciate the time you have taken to review my resume  i look forward to meeting with you  to discuss my qualifications in an interview  \n"
     ]
    }
   ],
   "source": [
    "processingFunctions = [lowercase, removePunctuation, removeNewlines]\n",
    "\n",
    "for func in processingFunctions:\n",
    "    text = func(text)\n",
    "\n",
    "print(text)"
   ]
  },
  {
   "cell_type": "markdown",
   "id": "67c4aa3c-c1fd-4dab-a112-9d45f7424740",
   "metadata": {},
   "source": [
    "#### Lambda functions"
   ]
  },
  {
   "cell_type": "code",
   "execution_count": 37,
   "id": "92f81504-2ce3-4055-a95e-0f076724e050",
   "metadata": {},
   "outputs": [
    {
     "data": {
      "text/plain": [
       "5"
      ]
     },
     "execution_count": 37,
     "metadata": {},
     "output_type": "execute_result"
    }
   ],
   "source": [
    "2+3"
   ]
  },
  {
   "cell_type": "code",
   "execution_count": 38,
   "id": "2f90a560-2c0e-4982-a623-c7a17fe98f12",
   "metadata": {},
   "outputs": [
    {
     "data": {
      "text/plain": [
       "8"
      ]
     },
     "execution_count": 38,
     "metadata": {},
     "output_type": "execute_result"
    }
   ],
   "source": [
    "(lambda x:x+3)(5)"
   ]
  },
  {
   "cell_type": "code",
   "execution_count": 39,
   "id": "adbf4f06-7339-4434-b9af-025861c902c3",
   "metadata": {},
   "outputs": [
    {
     "data": {
      "text/plain": [
       "[2, 3, 4, 5]"
      ]
     },
     "execution_count": 39,
     "metadata": {},
     "output_type": "execute_result"
    }
   ],
   "source": [
    "myList = [5,4,3,2]\n",
    "sorted(myList)"
   ]
  },
  {
   "cell_type": "code",
   "execution_count": 40,
   "id": "d731c01a-0228-48d8-bb2c-557dc648a55a",
   "metadata": {},
   "outputs": [
    {
     "data": {
      "text/plain": [
       "[{'num': 1}, {'num': 2}, {'num': 3}]"
      ]
     },
     "execution_count": 40,
     "metadata": {},
     "output_type": "execute_result"
    }
   ],
   "source": [
    "myList = [{'num': 3}, {'num' : 2}, {'num': 1}]\n",
    "sorted(myList, key=lambda x: x['num'])"
   ]
  },
  {
   "cell_type": "code",
   "execution_count": null,
   "id": "e44fd00b-1e8f-45c2-be93-3fa705e906b7",
   "metadata": {},
   "outputs": [],
   "source": []
  }
 ],
 "metadata": {
  "kernelspec": {
   "display_name": "Python 3 (ipykernel)",
   "language": "python",
   "name": "python3"
  },
  "language_info": {
   "codemirror_mode": {
    "name": "ipython",
    "version": 3
   },
   "file_extension": ".py",
   "mimetype": "text/x-python",
   "name": "python",
   "nbconvert_exporter": "python",
   "pygments_lexer": "ipython3",
   "version": "3.10.6"
  }
 },
 "nbformat": 4,
 "nbformat_minor": 5
}
