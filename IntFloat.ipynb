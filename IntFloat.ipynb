{
 "cells": [
  {
   "cell_type": "code",
   "execution_count": 2,
   "id": "023525fb-1c14-42bd-b860-de50fbb6b125",
   "metadata": {},
   "outputs": [
    {
     "data": {
      "text/plain": [
       "5.0"
      ]
     },
     "execution_count": 2,
     "metadata": {},
     "output_type": "execute_result"
    }
   ],
   "source": [
    "# output a float\n",
    "20/4"
   ]
  },
  {
   "cell_type": "code",
   "execution_count": 9,
   "id": "63ba59e7-c350-486c-823d-c8c3a383b945",
   "metadata": {},
   "outputs": [],
   "source": [
    "# Int and float are two classes"
   ]
  },
  {
   "cell_type": "code",
   "execution_count": 3,
   "id": "26c28097-de4d-4d3c-851e-d5ac560c2bfe",
   "metadata": {},
   "outputs": [
    {
     "data": {
      "text/plain": [
       "8"
      ]
     },
     "execution_count": 3,
     "metadata": {},
     "output_type": "execute_result"
    }
   ],
   "source": [
    "4 + 4"
   ]
  },
  {
   "cell_type": "code",
   "execution_count": 4,
   "id": "e0dceed9-99a6-40d5-8079-8705c72cb91e",
   "metadata": {},
   "outputs": [
    {
     "data": {
      "text/plain": [
       "8.0"
      ]
     },
     "execution_count": 4,
     "metadata": {},
     "output_type": "execute_result"
    }
   ],
   "source": [
    "4+4.0"
   ]
  },
  {
   "cell_type": "code",
   "execution_count": 10,
   "id": "efd6dd53-2669-43fc-a028-6ade204aad04",
   "metadata": {},
   "outputs": [
    {
     "data": {
      "text/plain": [
       "8"
      ]
     },
     "execution_count": 10,
     "metadata": {},
     "output_type": "execute_result"
    }
   ],
   "source": [
    "# casting\n",
    "int(4+4.0)"
   ]
  },
  {
   "cell_type": "code",
   "execution_count": 11,
   "id": "6a8d2857-dc16-499a-89f2-21c438dbce00",
   "metadata": {},
   "outputs": [
    {
     "data": {
      "text/plain": [
       "8"
      ]
     },
     "execution_count": 11,
     "metadata": {},
     "output_type": "execute_result"
    }
   ],
   "source": [
    "int(8.8)"
   ]
  },
  {
   "cell_type": "code",
   "execution_count": 8,
   "id": "c638fcdd-18f3-4975-8f26-13a1de87d149",
   "metadata": {},
   "outputs": [
    {
     "data": {
      "text/plain": [
       "4.0"
      ]
     },
     "execution_count": 8,
     "metadata": {},
     "output_type": "execute_result"
    }
   ],
   "source": [
    "float(4)"
   ]
  },
  {
   "cell_type": "code",
   "execution_count": 1,
   "id": "67c00abf-ed5c-4230-8de3-ab643b3f3daf",
   "metadata": {},
   "outputs": [
    {
     "data": {
      "text/plain": [
       "4.666666666666667"
      ]
     },
     "execution_count": 1,
     "metadata": {},
     "output_type": "execute_result"
    }
   ],
   "source": [
    "14/3"
   ]
  },
  {
   "cell_type": "code",
   "execution_count": 2,
   "id": "3de37818-92b4-45fd-803b-e4b009f01109",
   "metadata": {},
   "outputs": [
    {
     "data": {
      "text/plain": [
       "4"
      ]
     },
     "execution_count": 2,
     "metadata": {},
     "output_type": "execute_result"
    }
   ],
   "source": [
    "int(14/3)"
   ]
  },
  {
   "cell_type": "code",
   "execution_count": 3,
   "id": "67270fb7-3367-4e41-9880-21cf2f073abd",
   "metadata": {},
   "outputs": [
    {
     "data": {
      "text/plain": [
       "5"
      ]
     },
     "execution_count": 3,
     "metadata": {},
     "output_type": "execute_result"
    }
   ],
   "source": [
    "round(14/3)"
   ]
  },
  {
   "cell_type": "code",
   "execution_count": 10,
   "id": "c803df5a-d697-41e7-9398-a3a98ff7f30d",
   "metadata": {},
   "outputs": [
    {
     "data": {
      "text/plain": [
       "0.2"
      ]
     },
     "execution_count": 10,
     "metadata": {},
     "output_type": "execute_result"
    }
   ],
   "source": [
    "round(1.21-1.01, 3)"
   ]
  },
  {
   "cell_type": "code",
   "execution_count": 17,
   "id": "06b8dff5-6aef-405c-a11b-68db6753c0f9",
   "metadata": {},
   "outputs": [
    {
     "data": {
      "text/plain": [
       "4"
      ]
     },
     "execution_count": 17,
     "metadata": {},
     "output_type": "execute_result"
    }
   ],
   "source": [
    "# 100 base 2 = decimal 4\n",
    "int('100',2)"
   ]
  },
  {
   "cell_type": "code",
   "execution_count": 18,
   "id": "b02d2a3c-9895-40ca-8283-d6fba270416b",
   "metadata": {},
   "outputs": [
    {
     "data": {
      "text/plain": [
       "427"
      ]
     },
     "execution_count": 18,
     "metadata": {},
     "output_type": "execute_result"
    }
   ],
   "source": [
    "int('1ab',16)"
   ]
  },
  {
   "cell_type": "code",
   "execution_count": 19,
   "id": "1d9c7648-c35a-486d-87da-7e965b5f24fd",
   "metadata": {},
   "outputs": [],
   "source": [
    "from decimal import Decimal, getcontext"
   ]
  },
  {
   "cell_type": "code",
   "execution_count": 20,
   "id": "8e3c2492-8b46-4ec4-bb2b-41f2ae032f5e",
   "metadata": {},
   "outputs": [
    {
     "data": {
      "text/plain": [
       "Context(prec=28, rounding=ROUND_HALF_EVEN, Emin=-999999, Emax=999999, capitals=1, clamp=0, flags=[], traps=[InvalidOperation, DivisionByZero, Overflow])"
      ]
     },
     "execution_count": 20,
     "metadata": {},
     "output_type": "execute_result"
    }
   ],
   "source": [
    "getcontext()"
   ]
  },
  {
   "cell_type": "code",
   "execution_count": 24,
   "id": "c9d68bda-46e4-4bb5-b72a-a1cee3797f0b",
   "metadata": {},
   "outputs": [],
   "source": [
    "getcontext().prec=5"
   ]
  },
  {
   "cell_type": "code",
   "execution_count": 25,
   "id": "6e609a7a-6df0-43a5-b497-ea303451bab0",
   "metadata": {},
   "outputs": [
    {
     "data": {
      "text/plain": [
       "Context(prec=5, rounding=ROUND_HALF_EVEN, Emin=-999999, Emax=999999, capitals=1, clamp=0, flags=[Inexact, Rounded], traps=[InvalidOperation, DivisionByZero, Overflow])"
      ]
     },
     "execution_count": 25,
     "metadata": {},
     "output_type": "execute_result"
    }
   ],
   "source": [
    "getcontext()"
   ]
  },
  {
   "cell_type": "code",
   "execution_count": 26,
   "id": "8164022d-d286-4c07-a14a-264187272870",
   "metadata": {},
   "outputs": [
    {
     "data": {
      "text/plain": [
       "Decimal('0.33333')"
      ]
     },
     "execution_count": 26,
     "metadata": {},
     "output_type": "execute_result"
    }
   ],
   "source": [
    "Decimal(1)/Decimal(3)"
   ]
  },
  {
   "cell_type": "code",
   "execution_count": null,
   "id": "636f5f88-4bc1-412a-a452-c4514e716771",
   "metadata": {},
   "outputs": [],
   "source": []
  }
 ],
 "metadata": {
  "kernelspec": {
   "display_name": "Python 3 (ipykernel)",
   "language": "python",
   "name": "python3"
  },
  "language_info": {
   "codemirror_mode": {
    "name": "ipython",
    "version": 3
   },
   "file_extension": ".py",
   "mimetype": "text/x-python",
   "name": "python",
   "nbconvert_exporter": "python",
   "pygments_lexer": "ipython3",
   "version": "3.10.6"
  }
 },
 "nbformat": 4,
 "nbformat_minor": 5
}
