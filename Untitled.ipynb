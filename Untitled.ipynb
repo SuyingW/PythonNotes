{
 "cells": [
  {
   "cell_type": "markdown",
   "id": "ef875826-50e2-4b2f-a0b9-09f18b4b0184",
   "metadata": {},
   "source": [
    "List"
   ]
  },
  {
   "cell_type": "code",
   "execution_count": 7,
   "id": "d3d23126-d074-4a53-b6f7-85bf54e05650",
   "metadata": {},
   "outputs": [
    {
     "name": "stdout",
     "output_type": "stream",
     "text": [
      "[1, 2, 3, 4]\n"
     ]
    }
   ],
   "source": [
    "list = [1,2,3,4]\n",
    "print(list)"
   ]
  },
  {
   "cell_type": "code",
   "execution_count": 11,
   "id": "0499faa7-0ad5-4c80-a533-8f80ffb11316",
   "metadata": {},
   "outputs": [],
   "source": [
    "lista = ['list', 'of', 'string']"
   ]
  },
  {
   "cell_type": "code",
   "execution_count": 12,
   "id": "929b26d9-a26c-4203-9e0a-2abc9162afb4",
   "metadata": {},
   "outputs": [],
   "source": [
    "listb = [1, 'list', False, []]"
   ]
  },
  {
   "cell_type": "code",
   "execution_count": 13,
   "id": "b79df1c7-c5be-4afc-bd51-78128de27ce7",
   "metadata": {},
   "outputs": [],
   "source": [
    "listc = [[1,2,3],[False, True],[1, False, []]]"
   ]
  },
  {
   "cell_type": "code",
   "execution_count": 14,
   "id": "274c971b-0e83-4da8-b303-bb10af043c86",
   "metadata": {},
   "outputs": [
    {
     "data": {
      "text/plain": [
       "3"
      ]
     },
     "execution_count": 14,
     "metadata": {},
     "output_type": "execute_result"
    }
   ],
   "source": [
    "len(listc)"
   ]
  },
  {
   "cell_type": "markdown",
   "id": "16a85520-0846-42a2-bf9c-db97ac4ac252",
   "metadata": {},
   "source": [
    "List: Order matters, can contain repetitions"
   ]
  },
  {
   "cell_type": "markdown",
   "id": "48b332ec-a92c-4247-978a-1c38f396d91a",
   "metadata": {},
   "source": [
    "Set"
   ]
  },
  {
   "cell_type": "code",
   "execution_count": 15,
   "id": "239dd533-6b3e-445f-ae2e-28d76462d88b",
   "metadata": {},
   "outputs": [
    {
     "name": "stdout",
     "output_type": "stream",
     "text": [
      "{1, 2, 3, 4, 5}\n"
     ]
    }
   ],
   "source": [
    "set = {1,2,3,4,5}\n",
    "print(set)"
   ]
  },
  {
   "cell_type": "code",
   "execution_count": 16,
   "id": "1b942daa-01b7-4044-b106-1bc4918b6e9e",
   "metadata": {},
   "outputs": [
    {
     "data": {
      "text/plain": [
       "set"
      ]
     },
     "execution_count": 16,
     "metadata": {},
     "output_type": "execute_result"
    }
   ],
   "source": [
    "type(set)"
   ]
  },
  {
   "cell_type": "code",
   "execution_count": 17,
   "id": "f716965b-4470-481a-9a31-890e6e4122cb",
   "metadata": {},
   "outputs": [
    {
     "data": {
      "text/plain": [
       "list"
      ]
     },
     "execution_count": 17,
     "metadata": {},
     "output_type": "execute_result"
    }
   ],
   "source": [
    "type(list)"
   ]
  },
  {
   "cell_type": "code",
   "execution_count": 18,
   "id": "de64b5d3-c79e-4cd0-95ee-02e7a4e7d494",
   "metadata": {},
   "outputs": [
    {
     "data": {
      "text/plain": [
       "5"
      ]
     },
     "execution_count": 18,
     "metadata": {},
     "output_type": "execute_result"
    }
   ],
   "source": [
    "len(set)"
   ]
  },
  {
   "cell_type": "code",
   "execution_count": 21,
   "id": "295da873-69b5-4249-8e7c-228a5368732e",
   "metadata": {},
   "outputs": [],
   "source": [
    "setRep = {1,1,2,3}"
   ]
  },
  {
   "cell_type": "code",
   "execution_count": 22,
   "id": "4ff986d2-a693-45f5-a9fb-9a0b7f517b3f",
   "metadata": {},
   "outputs": [
    {
     "data": {
      "text/plain": [
       "3"
      ]
     },
     "execution_count": 22,
     "metadata": {},
     "output_type": "execute_result"
    }
   ],
   "source": [
    "len(setRep)"
   ]
  },
  {
   "cell_type": "code",
   "execution_count": 23,
   "id": "9cbedaf2-eb31-4250-9769-0e00200ab7e1",
   "metadata": {},
   "outputs": [
    {
     "name": "stdout",
     "output_type": "stream",
     "text": [
      "{1, 2, 3}\n"
     ]
    }
   ],
   "source": [
    "print(setRep)"
   ]
  },
  {
   "cell_type": "code",
   "execution_count": 24,
   "id": "65427bd3-ac89-443a-a2b4-c4cc16a4ef67",
   "metadata": {},
   "outputs": [
    {
     "data": {
      "text/plain": [
       "True"
      ]
     },
     "execution_count": 24,
     "metadata": {},
     "output_type": "execute_result"
    }
   ],
   "source": [
    "[1,2] == [1,2]"
   ]
  },
  {
   "cell_type": "code",
   "execution_count": 25,
   "id": "72aaf659-2563-42be-8e6d-d14896f895cd",
   "metadata": {},
   "outputs": [
    {
     "data": {
      "text/plain": [
       "False"
      ]
     },
     "execution_count": 25,
     "metadata": {},
     "output_type": "execute_result"
    }
   ],
   "source": [
    "[1,2] == [2,1]"
   ]
  },
  {
   "cell_type": "code",
   "execution_count": 26,
   "id": "2f52f554-4db8-4ec2-8e12-c3d1d876c382",
   "metadata": {},
   "outputs": [
    {
     "data": {
      "text/plain": [
       "True"
      ]
     },
     "execution_count": 26,
     "metadata": {},
     "output_type": "execute_result"
    }
   ],
   "source": [
    "{1,2} == {2,1}"
   ]
  },
  {
   "cell_type": "code",
   "execution_count": 27,
   "id": "5057160e-4a7f-42fe-8958-acd10af88517",
   "metadata": {},
   "outputs": [
    {
     "data": {
      "text/plain": [
       "True"
      ]
     },
     "execution_count": 27,
     "metadata": {},
     "output_type": "execute_result"
    }
   ],
   "source": [
    "{1,2,1} == {2,1}"
   ]
  },
  {
   "cell_type": "markdown",
   "id": "bf1f7399-0aab-492a-aa7e-e5a612112bb8",
   "metadata": {},
   "source": [
    "Set: Order not matter, repetition only count as one"
   ]
  },
  {
   "cell_type": "markdown",
   "id": "31900813-5742-494b-b471-09ea63658e58",
   "metadata": {},
   "source": [
    "Tuple"
   ]
  },
  {
   "cell_type": "code",
   "execution_count": 28,
   "id": "ced35d1d-3f78-47a8-8ce7-cd0a01380342",
   "metadata": {},
   "outputs": [],
   "source": [
    "tuple = (1,2,3)"
   ]
  },
  {
   "cell_type": "code",
   "execution_count": 29,
   "id": "21b06d79-69b9-43a0-a252-642fcba2d42a",
   "metadata": {},
   "outputs": [
    {
     "data": {
      "text/plain": [
       "3"
      ]
     },
     "execution_count": 29,
     "metadata": {},
     "output_type": "execute_result"
    }
   ],
   "source": [
    "len(tuple)"
   ]
  },
  {
   "cell_type": "code",
   "execution_count": 30,
   "id": "8b0b7013-1f92-4ebf-b627-73287a3e99f9",
   "metadata": {},
   "outputs": [
    {
     "data": {
      "text/plain": [
       "False"
      ]
     },
     "execution_count": 30,
     "metadata": {},
     "output_type": "execute_result"
    }
   ],
   "source": [
    "(1,2) == (2,1)"
   ]
  },
  {
   "cell_type": "code",
   "execution_count": null,
   "id": "46061654-e1e3-4b0e-ae11-7747d87135f3",
   "metadata": {},
   "outputs": [],
   "source": []
  }
 ],
 "metadata": {
  "kernelspec": {
   "display_name": "Python 3 (ipykernel)",
   "language": "python",
   "name": "python3"
  },
  "language_info": {
   "codemirror_mode": {
    "name": "ipython",
    "version": 3
   },
   "file_extension": ".py",
   "mimetype": "text/x-python",
   "name": "python",
   "nbconvert_exporter": "python",
   "pygments_lexer": "ipython3",
   "version": "3.10.6"
  }
 },
 "nbformat": 4,
 "nbformat_minor": 5
}
